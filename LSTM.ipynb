{
  "nbformat": 4,
  "nbformat_minor": 0,
  "metadata": {
    "colab": {
      "provenance": []
    },
    "kernelspec": {
      "name": "python3",
      "display_name": "Python 3"
    },
    "language_info": {
      "name": "python"
    }
  },
  "cells": [
    {
      "cell_type": "markdown",
      "source": [
        "# LSTM model for sentiment Analysis"
      ],
      "metadata": {
        "id": "zR_2-ZPXH71V"
      }
    },
    {
      "cell_type": "code",
      "execution_count": 41,
      "metadata": {
        "id": "LlUCAICfCd-a"
      },
      "outputs": [],
      "source": [
        "import joblib\n",
        "import pandas as pd\n",
        "import numpy as np\n",
        "\n",
        "import torch\n",
        "import torch.nn as nn\n",
        "import torch.optim as optim\n",
        "from torch.utils.data import DataLoader, Dataset\n",
        "from torch.optim.lr_scheduler import StepLR\n",
        "\n",
        "from sklearn.metrics import classification_report, f1_score\n",
        "import matplotlib.pyplot as plt"
      ]
    },
    {
      "cell_type": "markdown",
      "source": [
        "## Read the embeddings and Labels"
      ],
      "metadata": {
        "id": "kivi-DAjH3i1"
      }
    },
    {
      "cell_type": "code",
      "source": [
        "X_train = joblib.load('train_embeddings.pkl')\n",
        "y_train = pd.read_csv('training.csv')['label'].values\n",
        "\n",
        "X_val = joblib.load('validation_embeddings.pkl')\n",
        "y_val = pd.read_csv('validation.csv')['label'].values\n",
        "\n",
        "X_test = joblib.load('test_embeddings.pkl')\n",
        "y_test = pd.read_csv('test.csv')['label'].values"
      ],
      "metadata": {
        "id": "5kQuKqmXLdYg"
      },
      "execution_count": 2,
      "outputs": []
    },
    {
      "cell_type": "markdown",
      "source": [
        "## Number of classes or emotions"
      ],
      "metadata": {
        "id": "mpyHKU_SxkOm"
      }
    },
    {
      "cell_type": "code",
      "source": [
        "print(\"Unique labels in training set:\", np.unique(y_train))\n",
        "print(\"Min label:\", np.min(y_train))\n",
        "print(\"Max label:\", np.max(y_train))"
      ],
      "metadata": {
        "colab": {
          "base_uri": "https://localhost:8080/"
        },
        "id": "6bhf5TdiZ2hw",
        "outputId": "0a18d7b6-b2a3-4c10-e388-052ae78d3b88"
      },
      "execution_count": 3,
      "outputs": [
        {
          "output_type": "stream",
          "name": "stdout",
          "text": [
            "Unique labels in training set: [0 1 2 3 4 5]\n",
            "Min label: 0\n",
            "Max label: 5\n"
          ]
        }
      ]
    },
    {
      "cell_type": "code",
      "source": [
        "X_train.shape, y_train.shape"
      ],
      "metadata": {
        "colab": {
          "base_uri": "https://localhost:8080/"
        },
        "id": "sKpcZTmqR5qM",
        "outputId": "d7f3d428-acba-4d65-bbd4-7c4964c2cbd3"
      },
      "execution_count": 4,
      "outputs": [
        {
          "output_type": "execute_result",
          "data": {
            "text/plain": [
              "((16000, 768), (16000,))"
            ]
          },
          "metadata": {},
          "execution_count": 4
        }
      ]
    },
    {
      "cell_type": "code",
      "source": [
        "type(X_train), type(y_train)"
      ],
      "metadata": {
        "colab": {
          "base_uri": "https://localhost:8080/"
        },
        "id": "Zx2nnykRQwyI",
        "outputId": "05c8e6dd-a504-46a3-9d68-d64f4732750d"
      },
      "execution_count": 5,
      "outputs": [
        {
          "output_type": "execute_result",
          "data": {
            "text/plain": [
              "(numpy.ndarray, numpy.ndarray)"
            ]
          },
          "metadata": {},
          "execution_count": 5
        }
      ]
    },
    {
      "cell_type": "markdown",
      "source": [
        "## Convert the data into Dataset and DataLoader\n",
        "\n"
      ],
      "metadata": {
        "id": "3S8Todo0xrJV"
      }
    },
    {
      "cell_type": "code",
      "source": [
        "class EmotionDataset(Dataset):\n",
        "    def __init__(self, embeddings, labels):\n",
        "        self.embeddings = embeddings  # Lista de embeddings generados por RoBERTa\n",
        "        self.labels = labels.squeeze()  # Lista de etiquetas\n",
        "\n",
        "    def __len__(self):\n",
        "        return len(self.labels)\n",
        "\n",
        "    def __getitem__(self, idx):\n",
        "        return torch.tensor(self.embeddings[idx], dtype=torch.float32), torch.tensor(self.labels[idx], dtype=torch.long)"
      ],
      "metadata": {
        "id": "OFomAsQVMeGS"
      },
      "execution_count": 6,
      "outputs": []
    },
    {
      "cell_type": "code",
      "source": [
        "# Dataset type conversion\n",
        "train_dataset = EmotionDataset(X_train, y_train)\n",
        "val_dataset = EmotionDataset(X_val, y_val)\n",
        "test_dataset = EmotionDataset(X_test, y_test)\n",
        "\n",
        "# DataLoaderr to make use of batches\n",
        "train_loader = DataLoader(train_dataset, batch_size=32, shuffle=True)\n",
        "val_loader = DataLoader(val_dataset, batch_size=32, shuffle=False)\n",
        "test_loader = DataLoader(test_dataset, batch_size=32, shuffle=False)"
      ],
      "metadata": {
        "id": "S01Limk_LbeT"
      },
      "execution_count": 7,
      "outputs": []
    },
    {
      "cell_type": "code",
      "source": [
        "type(train_dataset), type(train_loader)"
      ],
      "metadata": {
        "colab": {
          "base_uri": "https://localhost:8080/"
        },
        "id": "TElFIlaYRClw",
        "outputId": "71c11be9-82ff-4628-b628-8861c3ceafc8"
      },
      "execution_count": 8,
      "outputs": [
        {
          "output_type": "execute_result",
          "data": {
            "text/plain": [
              "(__main__.EmotionDataset, torch.utils.data.dataloader.DataLoader)"
            ]
          },
          "metadata": {},
          "execution_count": 8
        }
      ]
    },
    {
      "cell_type": "markdown",
      "source": [
        "## LSTM Model\n",
        "\n",
        "Parameters:\n",
        "- Input_size: Embeddings size\n",
        "- Hidden_size: Number of neurons in the LSTM\n",
        "- num_layers: Number of stacking LSTM\n",
        "- output_size: number of emotions or classes"
      ],
      "metadata": {
        "id": "D4v8Ds7UQcKC"
      }
    },
    {
      "cell_type": "code",
      "source": [
        "class LSTM(nn.Module):\n",
        "  def __init__(self, input_size, hidden_size, num_layers, output_size, dropout):\n",
        "    # Input Size = Embedding Dimension\n",
        "    super(LSTM, self).__init__()\n",
        "    self.hidden_size = hidden_size\n",
        "    self.num_layers = num_layers\n",
        "\n",
        "    # Create the LSTM NN\n",
        "    self.lstm = nn.LSTM(\n",
        "        input_size,\n",
        "        hidden_size,\n",
        "        num_layers,\n",
        "        dropout=dropout,\n",
        "        batch_first=True\n",
        "      )\n",
        "\n",
        "    # Layer Normalization\n",
        "    self.layer_norm = nn.LayerNorm(hidden_size)\n",
        "\n",
        "    # Fully Connected Layer to make predictions\n",
        "    self.classifier = nn.Sequential(\n",
        "        nn.Linear(hidden_dim, hidden_dim // 2),\n",
        "        nn.ReLU(),\n",
        "        nn.Dropout(dropout),\n",
        "        nn.Linear(hidden_dim // 2, output_dim)\n",
        "    )\n",
        "\n",
        "\n",
        "  def forward(self, x):\n",
        "    if len(x.shape) == 2:\n",
        "            x = x.unsqueeze(1)  # Agrega dimensión de secuencia (batch_size, 1, embedding_dim)\n",
        "\n",
        "    h0 = torch.zeros(self.num_layers, x.size(0), self.hidden_size)\n",
        "    c0 = torch.zeros(self.num_layers, x.size(0), self.hidden_size)\n",
        "\n",
        "    # LSTM output: output of all the hidden_state, hidde_state, cell_state\n",
        "    lstm_out, (hidden, _) = self.lstm(x, (h0,c0))\n",
        "    # out: batch_size, seq_length, hidden_state\n",
        "\n",
        "    # Layer normalization\n",
        "    normalized = self.layer_norm(lstm_out[:, -1, :])\n",
        "\n",
        "    # Classification layers\n",
        "    output = self.classifier(normalized)\n",
        "    return output"
      ],
      "metadata": {
        "id": "iBLkgJ6XokjN"
      },
      "execution_count": 42,
      "outputs": []
    },
    {
      "cell_type": "markdown",
      "source": [
        "### Entrenar y Evaluar"
      ],
      "metadata": {
        "id": "fPaEBGvhuF-_"
      }
    },
    {
      "cell_type": "code",
      "source": [
        "def train_and_evaluate(model, train_loader, val_loader, criterion, optimizer, epochs=20, patience=5, device=\"cpu\"):\n",
        "    best_val_f1 = 0\n",
        "    patience_counter = 0\n",
        "\n",
        "    train_losses = []\n",
        "    val_losses = []\n",
        "    train_f1_scores = []\n",
        "    val_f1_scores = []\n",
        "\n",
        "    scheduler = StepLR(optimizer, step_size=5, gamma=0.5)\n",
        "\n",
        "    for epoch in range(epochs):\n",
        "        model.train()\n",
        "        total_loss = 0\n",
        "        train_predictions = []\n",
        "        train_true_labels = []\n",
        "\n",
        "        for embeddings, labels in train_loader:\n",
        "            embeddings, labels = embeddings.to(device), labels.to(device)\n",
        "\n",
        "            # Forward\n",
        "            outputs = model(embeddings)\n",
        "            loss = criterion(outputs, labels)\n",
        "            total_loss += loss.item()\n",
        "\n",
        "            # Store predictions for F1-score\n",
        "            predictions = torch.argmax(outputs, dim=1)\n",
        "            train_predictions.extend(predictions.cpu().numpy())\n",
        "            train_true_labels.extend(labels.cpu().numpy())\n",
        "\n",
        "            # Backward\n",
        "            optimizer.zero_grad()\n",
        "            loss.backward()\n",
        "            optimizer.step()\n",
        "\n",
        "        avg_loss = total_loss / len(train_loader)\n",
        "        train_losses.append(avg_loss)\n",
        "\n",
        "        # Calculate Training F1-score\n",
        "        train_f1 = f1_score(train_true_labels, train_predictions, average='weighted')\n",
        "        train_f1_scores.append(train_f1)\n",
        "\n",
        "        # Validation phase\n",
        "        model.eval()\n",
        "        val_predictions = []\n",
        "        val_true_labels = []\n",
        "        val_loss = 0\n",
        "\n",
        "        with torch.no_grad():\n",
        "            for embeddings, labels in val_loader:\n",
        "                embeddings, labels = embeddings.to(device), labels.to(device)\n",
        "                outputs = model(embeddings)\n",
        "\n",
        "                # Calculate loss\n",
        "                loss = criterion(outputs, labels)\n",
        "                val_loss += loss.item()\n",
        "\n",
        "                # Store predictions for F1-score\n",
        "                predictions = torch.argmax(outputs, dim=1)\n",
        "                val_predictions.extend(predictions.cpu().numpy())\n",
        "                val_true_labels.extend(labels.cpu().numpy())\n",
        "\n",
        "        avg_val_loss = val_loss / len(val_loader)\n",
        "        val_losses.append(avg_val_loss)\n",
        "\n",
        "        # Calculate Validation F1-score\n",
        "        val_f1 = f1_score(val_true_labels, val_predictions, average='weighted')\n",
        "        val_f1_scores.append(val_f1)\n",
        "\n",
        "        # Print epoch results\n",
        "        if epoch %10 == 0:\n",
        "            print(f\"Epoch {epoch+1}/{epochs}\")\n",
        "            print(f\"Training Loss: {avg_loss:.4f} | Validation Loss: {avg_val_loss:.4f}\")\n",
        "            print(f\"Training F1-Score: {train_f1:.4f} | Validation F1-Score: {val_f1:.4f}\")\n",
        "\n",
        "        # Early stopping check\n",
        "        if val_f1 > best_val_f1:\n",
        "            best_val_f1 = val_f1\n",
        "            patience_counter = 0\n",
        "            torch.save(model.state_dict(), 'best_model.pth')\n",
        "        else:\n",
        "            patience_counter += 1\n",
        "            if patience_counter >= patience:\n",
        "                print(\"Early stopping triggered\")\n",
        "                break\n",
        "\n",
        "        scheduler.step()\n",
        "\n",
        "    return train_losses, val_losses, train_f1_scores, val_f1_scores\n"
      ],
      "metadata": {
        "id": "5OQ2OyiUuOmD"
      },
      "execution_count": 53,
      "outputs": []
    },
    {
      "cell_type": "code",
      "source": [
        "def plot_training_curves(train_losses, val_losses, train_f1_scores, val_f1_scores):\n",
        "    plt.figure(figsize=(14, 6))\n",
        "\n",
        "    # Losses (Training and Validation)\n",
        "    plt.subplot(1, 2, 1)\n",
        "    plt.plot(train_losses, label='Training Loss')\n",
        "    plt.plot(val_losses, label='Validation Loss')\n",
        "    plt.title('Training and Validation Loss')\n",
        "    plt.xlabel('Epoch')\n",
        "    plt.ylabel('Loss')\n",
        "    plt.legend()\n",
        "\n",
        "    # F1-scores (Training and Validation)\n",
        "    plt.subplot(1, 2, 2)\n",
        "    plt.plot(train_f1_scores, label='Training F1-Score')\n",
        "    plt.plot(val_f1_scores, label='Validation F1-Score')\n",
        "    plt.title('Training and Validation F1-Score')\n",
        "    plt.xlabel('Epoch')\n",
        "    plt.ylabel('F1-Score')\n",
        "    plt.legend()\n",
        "\n",
        "    plt.tight_layout()\n",
        "    plt.show()\n"
      ],
      "metadata": {
        "id": "keH4d6aevkva"
      },
      "execution_count": 46,
      "outputs": []
    },
    {
      "cell_type": "markdown",
      "source": [
        "### Hiperparámetros"
      ],
      "metadata": {
        "id": "Pb7RmAVDtvqH"
      }
    },
    {
      "cell_type": "code",
      "source": [
        "embedding_dim = 768  # Embedding size\n",
        "hidden_dim = 128\n",
        "output_dim = 6  # Number of emotion or classes\n",
        "num_layers = 2\n",
        "dropout = 0.3\n",
        "\n",
        "# Model\n",
        "model = LSTM(embedding_dim, hidden_dim, num_layers, output_dim, dropout)\n",
        "\n",
        "# Loss and Optimizer\n",
        "criterion = nn.CrossEntropyLoss()\n",
        "optimizer = optim.Adam(model.parameters(), lr=1e-3)\n",
        "\n",
        "train_losses, val_losses, train_f1_scores, val_f1_scores = train_and_evaluate(\n",
        "    model, train_loader, val_loader, criterion, optimizer, epochs=200, patience=5\n",
        ")"
      ],
      "metadata": {
        "colab": {
          "base_uri": "https://localhost:8080/"
        },
        "id": "blSbDD24tx0B",
        "outputId": "a591ec85-efcd-4aea-bc9b-232f259d3864"
      },
      "execution_count": 54,
      "outputs": [
        {
          "output_type": "stream",
          "name": "stdout",
          "text": [
            "Epoch 1/200\n",
            "Training Loss: 1.2187 | Validation Loss: 1.0604\n",
            "Training F1-Score: 0.5085 | Validation F1-Score: 0.5632\n",
            "Epoch 11/200\n",
            "Training Loss: 0.7893 | Validation Loss: 0.7977\n",
            "Training F1-Score: 0.7027 | Validation F1-Score: 0.6953\n",
            "Epoch 21/200\n",
            "Training Loss: 0.6898 | Validation Loss: 0.7724\n",
            "Training F1-Score: 0.7365 | Validation F1-Score: 0.7156\n",
            "Early stopping triggered\n"
          ]
        }
      ]
    },
    {
      "cell_type": "code",
      "source": [
        "plot_training_curves(train_losses, val_losses, train_f1_scores, val_f1_scores)"
      ],
      "metadata": {
        "colab": {
          "base_uri": "https://localhost:8080/",
          "height": 563
        },
        "id": "4sD43AmSy71B",
        "outputId": "7494fdb6-2725-4f6d-9d48-981a85c0bb2e"
      },
      "execution_count": 55,
      "outputs": [
        {
          "output_type": "display_data",
          "data": {
            "text/plain": [
              "<Figure size 1400x600 with 2 Axes>"
            ],
            "image/png": "[encoded data removed]"
          },
          "metadata": {}
        }
      ]
    }
  ]
}