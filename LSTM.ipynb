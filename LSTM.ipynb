{
  "nbformat": 4,
  "nbformat_minor": 0,
  "metadata": {
    "colab": {
      "provenance": []
    },
    "kernelspec": {
      "name": "python3",
      "display_name": "Python 3"
    },
    "language_info": {
      "name": "python"
    }
  },
  "cells": [
    {
      "cell_type": "markdown",
      "source": [
        "# LSTM model for sentiment Analysis"
      ],
      "metadata": {
        "id": "zR_2-ZPXH71V"
      }
    },
    {
      "cell_type": "code",
      "execution_count": 40,
      "metadata": {
        "id": "LlUCAICfCd-a"
      },
      "outputs": [],
      "source": [
        "import joblib\n",
        "import pandas as pd\n",
        "import numpy as np\n",
        "\n",
        "pd.set_option('display.max_colwidth', 180)\n",
        "\n",
        "import torch\n",
        "import torch.nn as nn\n",
        "import torch.optim as optim\n",
        "from torch.utils.data import DataLoader, Dataset\n",
        "from torch.optim.lr_scheduler import StepLR\n",
        "\n",
        "from sklearn.metrics import classification_report, f1_score\n",
        "import matplotlib.pyplot as plt"
      ]
    },
    {
      "cell_type": "markdown",
      "source": [
        "## Read the embeddings and Labels"
      ],
      "metadata": {
        "id": "kivi-DAjH3i1"
      }
    },
    {
      "cell_type": "code",
      "source": [
        "X_train = joblib.load('train_embeddings.pkl')\n",
        "y_train = pd.read_csv('training.csv')['label'].values\n",
        "\n",
        "X_val = joblib.load('validation_embeddings.pkl')\n",
        "y_val = pd.read_csv('validation.csv')['label'].values\n",
        "\n",
        "X_test = joblib.load('test_embeddings.pkl')\n",
        "y_test = pd.read_csv('test.csv')['label'].values"
      ],
      "metadata": {
        "id": "5kQuKqmXLdYg"
      },
      "execution_count": 41,
      "outputs": []
    },
    {
      "cell_type": "code",
      "source": [
        "train = pd.read_csv('training.csv')\n",
        "train.head()\n",
        "#train[train.duplicated('text', keep=False)].sort_values(by='text')"
      ],
      "metadata": {
        "colab": {
          "base_uri": "https://localhost:8080/",
          "height": 204
        },
        "id": "cCp2CMwD3E5h",
        "outputId": "b4e4db31-b0a9-4e2d-a831-03491059ff8c"
      },
      "execution_count": 42,
      "outputs": [
        {
          "output_type": "execute_result",
          "data": {
            "text/plain": [
              "                                                                                                           text  \\\n",
              "0                                                                                       i didnt feel humiliated   \n",
              "1  i can go from feeling so hopeless to so damned hopeful just from being around someone who cares and is awake   \n",
              "2                                                              im grabbing a minute to post i feel greedy wrong   \n",
              "3                  i am ever feeling nostalgic about the fireplace i will know that it is still on the property   \n",
              "4                                                                                          i am feeling grouchy   \n",
              "\n",
              "   label  \n",
              "0      0  \n",
              "1      0  \n",
              "2      3  \n",
              "3      2  \n",
              "4      3  "
            ],
            "text/html": [
              "\n",
              "  <div id=\"df-a5856c1a-7825-44b1-8477-b0669b384f24\" class=\"colab-df-container\">\n",
              "    <div>\n",
              "<style scoped>\n",
              "    .dataframe tbody tr th:only-of-type {\n",
              "        vertical-align: middle;\n",
              "    }\n",
              "\n",
              "    .dataframe tbody tr th {\n",
              "        vertical-align: top;\n",
              "    }\n",
              "\n",
              "    .dataframe thead th {\n",
              "        text-align: right;\n",
              "    }\n",
              "</style>\n",
              "<table border=\"1\" class=\"dataframe\">\n",
              "  <thead>\n",
              "    <tr style=\"text-align: right;\">\n",
              "      <th></th>\n",
              "      <th>text</th>\n",
              "      <th>label</th>\n",
              "    </tr>\n",
              "  </thead>\n",
              "  <tbody>\n",
              "    <tr>\n",
              "      <th>0</th>\n",
              "      <td>i didnt feel humiliated</td>\n",
              "      <td>0</td>\n",
              "    </tr>\n",
              "    <tr>\n",
              "      <th>1</th>\n",
              "      <td>i can go from feeling so hopeless to so damned hopeful just from being around someone who cares and is awake</td>\n",
              "      <td>0</td>\n",
              "    </tr>\n",
              "    <tr>\n",
              "      <th>2</th>\n",
              "      <td>im grabbing a minute to post i feel greedy wrong</td>\n",
              "      <td>3</td>\n",
              "    </tr>\n",
              "    <tr>\n",
              "      <th>3</th>\n",
              "      <td>i am ever feeling nostalgic about the fireplace i will know that it is still on the property</td>\n",
              "      <td>2</td>\n",
              "    </tr>\n",
              "    <tr>\n",
              "      <th>4</th>\n",
              "      <td>i am feeling grouchy</td>\n",
              "      <td>3</td>\n",
              "    </tr>\n",
              "  </tbody>\n",
              "</table>\n",
              "</div>\n",
              "    <div class=\"colab-df-buttons\">\n",
              "\n",
              "  <div class=\"colab-df-container\">\n",
              "    <button class=\"colab-df-convert\" onclick=\"convertToInteractive('df-a5856c1a-7825-44b1-8477-b0669b384f24')\"\n",
              "            title=\"Convert this dataframe to an interactive table.\"\n",
              "            style=\"display:none;\">\n",
              "\n",
              "  <svg xmlns=\"http://www.w3.org/2000/svg\" height=\"24px\" viewBox=\"0 -960 960 960\">\n",
              "    <path d=\"M120-120v-720h720v720H120Zm60-500h600v-160H180v160Zm220 220h160v-160H400v160Zm0 220h160v-160H400v160ZM180-400h160v-160H180v160Zm440 0h160v-160H620v160ZM180-180h160v-160H180v160Zm440 0h160v-160H620v160Z\"/>\n",
              "  </svg>\n",
              "    </button>\n",
              "\n",
              "  <style>\n",
              "    .colab-df-container {\n",
              "      display:flex;\n",
              "      gap: 12px;\n",
              "    }\n",
              "\n",
              "    .colab-df-convert {\n",
              "      background-color: #E8F0FE;\n",
              "      border: none;\n",
              "      border-radius: 50%;\n",
              "      cursor: pointer;\n",
              "      display: none;\n",
              "      fill: #1967D2;\n",
              "      height: 32px;\n",
              "      padding: 0 0 0 0;\n",
              "      width: 32px;\n",
              "    }\n",
              "\n",
              "    .colab-df-convert:hover {\n",
              "      background-color: #E2EBFA;\n",
              "      box-shadow: 0px 1px 2px rgba(60, 64, 67, 0.3), 0px 1px 3px 1px rgba(60, 64, 67, 0.15);\n",
              "      fill: #174EA6;\n",
              "    }\n",
              "\n",
              "    .colab-df-buttons div {\n",
              "      margin-bottom: 4px;\n",
              "    }\n",
              "\n",
              "    [theme=dark] .colab-df-convert {\n",
              "      background-color: #3B4455;\n",
              "      fill: #D2E3FC;\n",
              "    }\n",
              "\n",
              "    [theme=dark] .colab-df-convert:hover {\n",
              "      background-color: #434B5C;\n",
              "      box-shadow: 0px 1px 3px 1px rgba(0, 0, 0, 0.15);\n",
              "      filter: drop-shadow(0px 1px 2px rgba(0, 0, 0, 0.3));\n",
              "      fill: #FFFFFF;\n",
              "    }\n",
              "  </style>\n",
              "\n",
              "    <script>\n",
              "      const buttonEl =\n",
              "        document.querySelector('#df-a5856c1a-7825-44b1-8477-b0669b384f24 button.colab-df-convert');\n",
              "      buttonEl.style.display =\n",
              "        google.colab.kernel.accessAllowed ? 'block' : 'none';\n",
              "\n",
              "      async function convertToInteractive(key) {\n",
              "        const element = document.querySelector('#df-a5856c1a-7825-44b1-8477-b0669b384f24');\n",
              "        const dataTable =\n",
              "          await google.colab.kernel.invokeFunction('convertToInteractive',\n",
              "                                                    [key], {});\n",
              "        if (!dataTable) return;\n",
              "\n",
              "        const docLinkHtml = 'Like what you see? Visit the ' +\n",
              "          '<a target=\"_blank\" href=https://colab.research.google.com/notebooks/data_table.ipynb>data table notebook</a>'\n",
              "          + ' to learn more about interactive tables.';\n",
              "        element.innerHTML = '';\n",
              "        dataTable['output_type'] = 'display_data';\n",
              "        await google.colab.output.renderOutput(dataTable, element);\n",
              "        const docLink = document.createElement('div');\n",
              "        docLink.innerHTML = docLinkHtml;\n",
              "        element.appendChild(docLink);\n",
              "      }\n",
              "    </script>\n",
              "  </div>\n",
              "\n",
              "\n",
              "<div id=\"df-8bb76214-b275-4bd6-a921-d942349aecd2\">\n",
              "  <button class=\"colab-df-quickchart\" onclick=\"quickchart('df-8bb76214-b275-4bd6-a921-d942349aecd2')\"\n",
              "            title=\"Suggest charts\"\n",
              "            style=\"display:none;\">\n",
              "\n",
              "<svg xmlns=\"http://www.w3.org/2000/svg\" height=\"24px\"viewBox=\"0 0 24 24\"\n",
              "     width=\"24px\">\n",
              "    <g>\n",
              "        <path d=\"M19 3H5c-1.1 0-2 .9-2 2v14c0 1.1.9 2 2 2h14c1.1 0 2-.9 2-2V5c0-1.1-.9-2-2-2zM9 17H7v-7h2v7zm4 0h-2V7h2v10zm4 0h-2v-4h2v4z\"/>\n",
              "    </g>\n",
              "</svg>\n",
              "  </button>\n",
              "\n",
              "<style>\n",
              "  .colab-df-quickchart {\n",
              "      --bg-color: #E8F0FE;\n",
              "      --fill-color: #1967D2;\n",
              "      --hover-bg-color: #E2EBFA;\n",
              "      --hover-fill-color: #174EA6;\n",
              "      --disabled-fill-color: #AAA;\n",
              "      --disabled-bg-color: #DDD;\n",
              "  }\n",
              "\n",
              "  [theme=dark] .colab-df-quickchart {\n",
              "      --bg-color: #3B4455;\n",
              "      --fill-color: #D2E3FC;\n",
              "      --hover-bg-color: #434B5C;\n",
              "      --hover-fill-color: #FFFFFF;\n",
              "      --disabled-bg-color: #3B4455;\n",
              "      --disabled-fill-color: #666;\n",
              "  }\n",
              "\n",
              "  .colab-df-quickchart {\n",
              "    background-color: var(--bg-color);\n",
              "    border: none;\n",
              "    border-radius: 50%;\n",
              "    cursor: pointer;\n",
              "    display: none;\n",
              "    fill: var(--fill-color);\n",
              "    height: 32px;\n",
              "    padding: 0;\n",
              "    width: 32px;\n",
              "  }\n",
              "\n",
              "  .colab-df-quickchart:hover {\n",
              "    background-color: var(--hover-bg-color);\n",
              "    box-shadow: 0 1px 2px rgba(60, 64, 67, 0.3), 0 1px 3px 1px rgba(60, 64, 67, 0.15);\n",
              "    fill: var(--button-hover-fill-color);\n",
              "  }\n",
              "\n",
              "  .colab-df-quickchart-complete:disabled,\n",
              "  .colab-df-quickchart-complete:disabled:hover {\n",
              "    background-color: var(--disabled-bg-color);\n",
              "    fill: var(--disabled-fill-color);\n",
              "    box-shadow: none;\n",
              "  }\n",
              "\n",
              "  .colab-df-spinner {\n",
              "    border: 2px solid var(--fill-color);\n",
              "    border-color: transparent;\n",
              "    border-bottom-color: var(--fill-color);\n",
              "    animation:\n",
              "      spin 1s steps(1) infinite;\n",
              "  }\n",
              "\n",
              "  @keyframes spin {\n",
              "    0% {\n",
              "      border-color: transparent;\n",
              "      border-bottom-color: var(--fill-color);\n",
              "      border-left-color: var(--fill-color);\n",
              "    }\n",
              "    20% {\n",
              "      border-color: transparent;\n",
              "      border-left-color: var(--fill-color);\n",
              "      border-top-color: var(--fill-color);\n",
              "    }\n",
              "    30% {\n",
              "      border-color: transparent;\n",
              "      border-left-color: var(--fill-color);\n",
              "      border-top-color: var(--fill-color);\n",
              "      border-right-color: var(--fill-color);\n",
              "    }\n",
              "    40% {\n",
              "      border-color: transparent;\n",
              "      border-right-color: var(--fill-color);\n",
              "      border-top-color: var(--fill-color);\n",
              "    }\n",
              "    60% {\n",
              "      border-color: transparent;\n",
              "      border-right-color: var(--fill-color);\n",
              "    }\n",
              "    80% {\n",
              "      border-color: transparent;\n",
              "      border-right-color: var(--fill-color);\n",
              "      border-bottom-color: var(--fill-color);\n",
              "    }\n",
              "    90% {\n",
              "      border-color: transparent;\n",
              "      border-bottom-color: var(--fill-color);\n",
              "    }\n",
              "  }\n",
              "</style>\n",
              "\n",
              "  <script>\n",
              "    async function quickchart(key) {\n",
              "      const quickchartButtonEl =\n",
              "        document.querySelector('#' + key + ' button');\n",
              "      quickchartButtonEl.disabled = true;  // To prevent multiple clicks.\n",
              "      quickchartButtonEl.classList.add('colab-df-spinner');\n",
              "      try {\n",
              "        const charts = await google.colab.kernel.invokeFunction(\n",
              "            'suggestCharts', [key], {});\n",
              "      } catch (error) {\n",
              "        console.error('Error during call to suggestCharts:', error);\n",
              "      }\n",
              "      quickchartButtonEl.classList.remove('colab-df-spinner');\n",
              "      quickchartButtonEl.classList.add('colab-df-quickchart-complete');\n",
              "    }\n",
              "    (() => {\n",
              "      let quickchartButtonEl =\n",
              "        document.querySelector('#df-8bb76214-b275-4bd6-a921-d942349aecd2 button');\n",
              "      quickchartButtonEl.style.display =\n",
              "        google.colab.kernel.accessAllowed ? 'block' : 'none';\n",
              "    })();\n",
              "  </script>\n",
              "</div>\n",
              "\n",
              "    </div>\n",
              "  </div>\n"
            ],
            "application/vnd.google.colaboratory.intrinsic+json": {
              "type": "dataframe",
              "summary": "{\n  \"name\": \"#train[train\",\n  \"rows\": 5,\n  \"fields\": [\n    {\n      \"column\": \"text\",\n      \"properties\": {\n        \"dtype\": \"string\",\n        \"num_unique_values\": 5,\n        \"samples\": [\n          \"i can go from feeling so hopeless to so damned hopeful just from being around someone who cares and is awake\",\n          \"i am feeling grouchy\",\n          \"im grabbing a minute to post i feel greedy wrong\"\n        ],\n        \"semantic_type\": \"\",\n        \"description\": \"\"\n      }\n    },\n    {\n      \"column\": \"label\",\n      \"properties\": {\n        \"dtype\": \"number\",\n        \"std\": 1,\n        \"min\": 0,\n        \"max\": 3,\n        \"num_unique_values\": 3,\n        \"samples\": [\n          0,\n          3,\n          2\n        ],\n        \"semantic_type\": \"\",\n        \"description\": \"\"\n      }\n    }\n  ]\n}"
            }
          },
          "metadata": {},
          "execution_count": 42
        }
      ]
    },
    {
      "cell_type": "markdown",
      "source": [
        "## Number of classes or emotions"
      ],
      "metadata": {
        "id": "mpyHKU_SxkOm"
      }
    },
    {
      "cell_type": "code",
      "source": [
        "print(\"Unique labels in training set:\", np.unique(y_train))\n",
        "print(\"Min label:\", np.min(y_train))\n",
        "print(\"Max label:\", np.max(y_train))"
      ],
      "metadata": {
        "colab": {
          "base_uri": "https://localhost:8080/"
        },
        "id": "6bhf5TdiZ2hw",
        "outputId": "fe2dc20a-9ffd-415a-fdbb-a14889113c47"
      },
      "execution_count": 43,
      "outputs": [
        {
          "output_type": "stream",
          "name": "stdout",
          "text": [
            "Unique labels in training set: [0 1 2 3 4 5]\n",
            "Min label: 0\n",
            "Max label: 5\n"
          ]
        }
      ]
    },
    {
      "cell_type": "code",
      "source": [
        "X_train.shape, y_train.shape"
      ],
      "metadata": {
        "colab": {
          "base_uri": "https://localhost:8080/"
        },
        "id": "sKpcZTmqR5qM",
        "outputId": "e771e91b-089e-4953-8843-5c40eeb34c6f"
      },
      "execution_count": 44,
      "outputs": [
        {
          "output_type": "execute_result",
          "data": {
            "text/plain": [
              "((16000, 768), (16000,))"
            ]
          },
          "metadata": {},
          "execution_count": 44
        }
      ]
    },
    {
      "cell_type": "code",
      "source": [
        "type(X_train), type(y_train)"
      ],
      "metadata": {
        "colab": {
          "base_uri": "https://localhost:8080/"
        },
        "id": "Zx2nnykRQwyI",
        "outputId": "11a1c30f-6598-4765-a5f4-a524d3c768ce"
      },
      "execution_count": 45,
      "outputs": [
        {
          "output_type": "execute_result",
          "data": {
            "text/plain": [
              "(numpy.ndarray, numpy.ndarray)"
            ]
          },
          "metadata": {},
          "execution_count": 45
        }
      ]
    },
    {
      "cell_type": "markdown",
      "source": [
        "## Convert the data into Dataset and DataLoader\n",
        "\n"
      ],
      "metadata": {
        "id": "3S8Todo0xrJV"
      }
    },
    {
      "cell_type": "code",
      "source": [
        "class EmotionDataset(Dataset):\n",
        "    def __init__(self, embeddings, labels):\n",
        "        self.embeddings = embeddings  # Lista de embeddings generados por RoBERTa\n",
        "        self.labels = labels.squeeze()  # Lista de etiquetas\n",
        "\n",
        "    def __len__(self):\n",
        "        return len(self.labels)\n",
        "\n",
        "    def __getitem__(self, idx):\n",
        "        return torch.tensor(self.embeddings[idx], dtype=torch.float32), torch.tensor(self.labels[idx], dtype=torch.long)"
      ],
      "metadata": {
        "id": "OFomAsQVMeGS"
      },
      "execution_count": 46,
      "outputs": []
    },
    {
      "cell_type": "code",
      "source": [
        "# Dataset type conversion\n",
        "train_dataset = EmotionDataset(X_train, y_train)\n",
        "val_dataset = EmotionDataset(X_val, y_val)\n",
        "test_dataset = EmotionDataset(X_test, y_test)\n",
        "\n",
        "# DataLoaderr to make use of batches\n",
        "train_loader = DataLoader(train_dataset, batch_size=32, shuffle=True)\n",
        "val_loader = DataLoader(val_dataset, batch_size=32, shuffle=False)\n",
        "test_loader = DataLoader(test_dataset, batch_size=32, shuffle=False)"
      ],
      "metadata": {
        "id": "S01Limk_LbeT"
      },
      "execution_count": 47,
      "outputs": []
    },
    {
      "cell_type": "code",
      "source": [
        "type(train_dataset), type(train_loader)"
      ],
      "metadata": {
        "colab": {
          "base_uri": "https://localhost:8080/"
        },
        "id": "TElFIlaYRClw",
        "outputId": "e38d4fce-6a78-49ee-a91a-77c786e1c151"
      },
      "execution_count": 48,
      "outputs": [
        {
          "output_type": "execute_result",
          "data": {
            "text/plain": [
              "(__main__.EmotionDataset, torch.utils.data.dataloader.DataLoader)"
            ]
          },
          "metadata": {},
          "execution_count": 48
        }
      ]
    },
    {
      "cell_type": "markdown",
      "source": [
        "## LSTM Model\n",
        "\n",
        "Parameters:\n",
        "- Input_size: Embeddings size\n",
        "- Hidden_size: Number of neurons in the LSTM\n",
        "- num_layers: Number of stacking LSTM\n",
        "- output_size: number of emotions or classes"
      ],
      "metadata": {
        "id": "D4v8Ds7UQcKC"
      }
    },
    {
      "cell_type": "code",
      "source": [
        "class LSTM(nn.Module):\n",
        "  def __init__(self, input_size, hidden_size, num_layers, output_size, dropout):\n",
        "    super(LSTM, self).__init__()\n",
        "    self.hidden_size = hidden_size\n",
        "    self.num_layers = num_layers\n",
        "\n",
        "    # LSTM\n",
        "    self.lstm = nn.LSTM(\n",
        "        input_size,\n",
        "        hidden_size,\n",
        "        num_layers,\n",
        "        dropout=dropout,\n",
        "        batch_first=True\n",
        "    )\n",
        "\n",
        "    self.classifier = nn.Sequential(\n",
        "        nn.Linear(hidden_size, hidden_size // 2),\n",
        "        nn.ReLU(),\n",
        "        nn.Dropout(dropout),\n",
        "        nn.Linear(hidden_size // 2, hidden_size//4),\n",
        "        nn.ReLU(),\n",
        "        nn.Dropout(dropout),\n",
        "        nn.Linear(hidden_size//4, output_size)\n",
        "    )\n",
        "\n",
        "\n",
        "  def forward(self, x):\n",
        "    if len(x.shape) == 2:\n",
        "      x = x.unsqueeze(1)  # Agrega dimensión de secuencia (batch_size, 1, embedding_dim)\n",
        "\n",
        "    h0 = torch.zeros(self.num_layers, x.size(0), self.hidden_size)\n",
        "    c0 = torch.zeros(self.num_layers, x.size(0), self.hidden_size)\n",
        "\n",
        "    # LSTM output: output of all the hidden_state, hidde_state, cell_state\n",
        "    lstm_out, (hidden, _) = self.lstm(x, (h0,c0))\n",
        "    # out: batch_size, seq_length, hidden_state\n",
        "\n",
        "    # Classification layers\n",
        "    output = self.classifier(lstm_out[:, -1, :])\n",
        "    return output"
      ],
      "metadata": {
        "id": "iBLkgJ6XokjN"
      },
      "execution_count": 54,
      "outputs": []
    },
    {
      "cell_type": "markdown",
      "source": [
        "### Entrenar y Evaluar"
      ],
      "metadata": {
        "id": "fPaEBGvhuF-_"
      }
    },
    {
      "cell_type": "code",
      "source": [
        "def train_and_evaluate(model, train_loader, val_loader, criterion, optimizer, epochs=20, patience=5, device=\"cpu\"):\n",
        "    best_val_f1 = 0\n",
        "    patience_counter = 0\n",
        "\n",
        "    train_losses = []\n",
        "    val_losses = []\n",
        "    train_f1_scores = []\n",
        "    val_f1_scores = []\n",
        "\n",
        "    scheduler = StepLR(optimizer, step_size=5, gamma=0.5)\n",
        "\n",
        "    for epoch in range(epochs):\n",
        "        model.train()\n",
        "        total_loss = 0\n",
        "        train_predictions = []\n",
        "        train_true_labels = []\n",
        "\n",
        "        for embeddings, labels in train_loader:\n",
        "            embeddings, labels = embeddings.to(device), labels.to(device)\n",
        "\n",
        "            # Forward\n",
        "            outputs = model(embeddings)\n",
        "            loss = criterion(outputs, labels)\n",
        "            total_loss += loss.item()\n",
        "\n",
        "            # Store predictions for F1-score\n",
        "            predictions = torch.argmax(outputs, dim=1)\n",
        "            train_predictions.extend(predictions.cpu().numpy())\n",
        "            train_true_labels.extend(labels.cpu().numpy())\n",
        "\n",
        "            # Backward\n",
        "            optimizer.zero_grad()\n",
        "            loss.backward()\n",
        "            optimizer.step()\n",
        "\n",
        "        avg_loss = total_loss / len(train_loader)\n",
        "        train_losses.append(avg_loss)\n",
        "\n",
        "        # Calculate Training F1-score\n",
        "        train_f1 = f1_score(train_true_labels, train_predictions, average='weighted')\n",
        "        train_f1_scores.append(train_f1)\n",
        "\n",
        "        # Validation phase\n",
        "        model.eval()\n",
        "        val_predictions = []\n",
        "        val_true_labels = []\n",
        "        val_loss = 0\n",
        "\n",
        "        with torch.no_grad():\n",
        "            for embeddings, labels in val_loader:\n",
        "                embeddings, labels = embeddings.to(device), labels.to(device)\n",
        "                outputs = model(embeddings)\n",
        "\n",
        "                # Calculate loss\n",
        "                loss = criterion(outputs, labels)\n",
        "                val_loss += loss.item()\n",
        "\n",
        "                # Store predictions for F1-score\n",
        "                predictions = torch.argmax(outputs, dim=1)\n",
        "                val_predictions.extend(predictions.cpu().numpy())\n",
        "                val_true_labels.extend(labels.cpu().numpy())\n",
        "\n",
        "        avg_val_loss = val_loss / len(val_loader)\n",
        "        val_losses.append(avg_val_loss)\n",
        "\n",
        "        # Calculate Validation F1-score\n",
        "        val_f1 = f1_score(val_true_labels, val_predictions, average='weighted')\n",
        "        val_f1_scores.append(val_f1)\n",
        "\n",
        "        # Print epoch results\n",
        "        if epoch %10 == 0:\n",
        "            print(f\"Epoch {epoch+1}/{epochs}\")\n",
        "            print(f\"Training Loss: {avg_loss:.4f} | Validation Loss: {avg_val_loss:.4f}\")\n",
        "            print(f\"Training F1-Score: {train_f1:.4f} | Validation F1-Score: {val_f1:.4f}\")\n",
        "\n",
        "        # Early stopping check\n",
        "        if val_f1 > best_val_f1:\n",
        "            best_val_f1 = val_f1\n",
        "            patience_counter = 0\n",
        "            torch.save(model.state_dict(), 'best_model.pth')\n",
        "        else:\n",
        "            patience_counter += 1\n",
        "            if patience_counter >= patience:\n",
        "                print(\"Early stopping triggered\")\n",
        "                break\n",
        "\n",
        "        scheduler.step()\n",
        "\n",
        "    return train_losses, val_losses, train_f1_scores, val_f1_scores\n"
      ],
      "metadata": {
        "id": "5OQ2OyiUuOmD"
      },
      "execution_count": 50,
      "outputs": []
    },
    {
      "cell_type": "code",
      "source": [
        "def plot_training_curves(train_losses, val_losses, train_f1_scores, val_f1_scores):\n",
        "    plt.figure(figsize=(14, 6))\n",
        "\n",
        "    # Losses (Training and Validation)\n",
        "    plt.subplot(1, 2, 1)\n",
        "    plt.plot(train_losses, label='Training Loss')\n",
        "    plt.plot(val_losses, label='Validation Loss')\n",
        "    plt.title('Training and Validation Loss')\n",
        "    plt.xlabel('Epoch')\n",
        "    plt.ylabel('Loss')\n",
        "    plt.legend()\n",
        "\n",
        "    # F1-scores (Training and Validation)\n",
        "    plt.subplot(1, 2, 2)\n",
        "    plt.plot(train_f1_scores, label='Training F1-Score')\n",
        "    plt.plot(val_f1_scores, label='Validation F1-Score')\n",
        "    plt.title('Training and Validation F1-Score')\n",
        "    plt.xlabel('Epoch')\n",
        "    plt.ylabel('F1-Score')\n",
        "    plt.legend()\n",
        "\n",
        "    plt.tight_layout()\n",
        "    plt.show()\n"
      ],
      "metadata": {
        "id": "keH4d6aevkva"
      },
      "execution_count": 51,
      "outputs": []
    },
    {
      "cell_type": "markdown",
      "source": [
        "### Hiperparámetros"
      ],
      "metadata": {
        "id": "Pb7RmAVDtvqH"
      }
    },
    {
      "cell_type": "code",
      "source": [
        "embedding_dim = 768  # Embedding size\n",
        "hidden_dim = 256\n",
        "output_dim = 6  # Number of emotion or classes\n",
        "num_layers = 2\n",
        "dropout = 0.45\n",
        "\n",
        "# Model\n",
        "model = LSTM(embedding_dim, hidden_dim, num_layers, output_dim, dropout)\n",
        "\n",
        "# Loss and Optimizer\n",
        "criterion = nn.CrossEntropyLoss()\n",
        "optimizer = optim.Adam(model.parameters(), lr=1e-3)\n",
        "\n",
        "train_losses, val_losses, train_f1_scores, val_f1_scores = train_and_evaluate(\n",
        "    model, train_loader, val_loader, criterion, optimizer, epochs=200, patience=5\n",
        ")"
      ],
      "metadata": {
        "colab": {
          "base_uri": "https://localhost:8080/"
        },
        "id": "blSbDD24tx0B",
        "outputId": "94288c1e-355b-45b4-8a2f-7522b0c8bec6"
      },
      "execution_count": 55,
      "outputs": [
        {
          "output_type": "stream",
          "name": "stdout",
          "text": [
            "Epoch 1/200\n",
            "Training Loss: 1.3226 | Validation Loss: 1.1718\n",
            "Training F1-Score: 0.4278 | Validation F1-Score: 0.4813\n",
            "Epoch 11/200\n",
            "Training Loss: 0.8983 | Validation Loss: 0.8773\n",
            "Training F1-Score: 0.6602 | Validation F1-Score: 0.6694\n",
            "Epoch 21/200\n",
            "Training Loss: 0.8068 | Validation Loss: 0.8216\n",
            "Training F1-Score: 0.6953 | Validation F1-Score: 0.6899\n",
            "Epoch 31/200\n",
            "Training Loss: 0.7821 | Validation Loss: 0.8085\n",
            "Training F1-Score: 0.7097 | Validation F1-Score: 0.7040\n",
            "Early stopping triggered\n"
          ]
        }
      ]
    },
    {
      "cell_type": "code",
      "source": [
        "plot_training_curves(train_losses, val_losses, train_f1_scores, val_f1_scores)"
      ],
      "metadata": {
        "colab": {
          "base_uri": "https://localhost:8080/",
          "height": 562
        },
        "id": "4sD43AmSy71B",
        "outputId": "dcd042de-6736-43ec-8a86-42f3288ddff5"
      },
      "execution_count": 56,
      "outputs": [
        {
          "output_type": "display_data",
          "data": {
            "text/plain": [
              "<Figure size 1400x600 with 2 Axes>"
            ],
            "image/png": "[encoded data removed]"
          },
          "metadata": {}
        }
      ]
    },
    {
      "cell_type": "markdown",
      "source": [
        "## Predicciones"
      ],
      "metadata": {
        "id": "YFfl8uVozZxv"
      }
    },
    {
      "cell_type": "code",
      "source": [
        "from transformers import AutoTokenizer, AutoModel\n",
        "import torch.nn.functional as F # Import F\n",
        "\n",
        "class TextPredictionPipeline:\n",
        "    def __init__(self, lstm_model, device='cpu'):\n",
        "        # Cargar el modelo LSTM entrenado\n",
        "        self.lstm_model = lstm_model\n",
        "        self.lstm_model.to(device)\n",
        "        self.lstm_model.eval()\n",
        "\n",
        "        # Cargar tokenizer y modelo\n",
        "        self.tokenizer = AutoTokenizer.from_pretrained(\"cardiffnlp/twitter-roberta-base-sentiment\")\n",
        "        self.model = AutoModel.from_pretrained(\"cardiffnlp/twitter-roberta-base-sentiment\")\n",
        "        self.model.to(device)\n",
        "        self.model.eval()\n",
        "        self.device = device\n",
        "\n",
        "        # Mapeo de etiquetas\n",
        "        self.label_mapping = {\n",
        "            0: \"sadness\",\n",
        "            1: \"joy\",\n",
        "            2: \"love\",\n",
        "            3: \"anger\",\n",
        "            4: \"fear\",\n",
        "            5: \"surprise\"\n",
        "        }\n",
        "\n",
        "    def get_embedding(self, text):\n",
        "        \"\"\"Obtiene el embedding para un texto.\"\"\"\n",
        "        with torch.no_grad():\n",
        "            # Tokenizar el texto\n",
        "            inputs = self.tokenizer(\n",
        "                text,\n",
        "                return_tensors=\"pt\",\n",
        "                padding=True,\n",
        "                truncation=True,\n",
        "                max_length=512\n",
        "            ).to(self.device)\n",
        "\n",
        "            # Obtener embeddings\n",
        "            outputs = self.model(**inputs)\n",
        "\n",
        "            # Usar el embedding del token [CLS] (primer token)\n",
        "            embeddings = outputs.last_hidden_state[:, 0, :]\n",
        "\n",
        "            return embeddings\n",
        "\n",
        "    def predict(self, text, return_probabilities=False):\n",
        "        \"\"\"\n",
        "        Realiza una predicción para un texto dado.\n",
        "\n",
        "        Args:\n",
        "            text (str): Texto a clasificar\n",
        "            return_probabilities (bool): Si es True, devuelve las probabilidades para cada clase\n",
        "\n",
        "        Returns:\n",
        "            str: Etiqueta predicha\n",
        "            dict: Probabilidades por clase (opcional)\n",
        "        \"\"\"\n",
        "        # Obtener embedding\n",
        "        embedding = self.get_embedding(text)\n",
        "\n",
        "        # Realizar predicción con el modelo LSTM\n",
        "        with torch.no_grad():\n",
        "            outputs = self.lstm_model(embedding)\n",
        "            probabilities = F.softmax(outputs, dim=1) # Use F\n",
        "\n",
        "            # Obtener la predicción\n",
        "            predicted_class = torch.argmax(probabilities, dim=1).item()\n",
        "            predicted_label = self.label_mapping[predicted_class]\n",
        "\n",
        "            if return_probabilities:\n",
        "                # Convertir probabilidades a diccionario\n",
        "                probs_dict = {\n",
        "                    label: prob.item()\n",
        "                    for label, prob in zip(self.label_mapping.values(), probabilities[0])\n",
        "                }\n",
        "                return predicted_label, probs_dict\n",
        "\n",
        "            return predicted_label\n",
        "\n",
        "    def predict_batch(self, texts, return_probabilities=False):\n",
        "        \"\"\"\n",
        "        Realiza predicciones para una lista de textos.\n",
        "\n",
        "        Args:\n",
        "            texts (list): Lista de textos a clasificar\n",
        "            return_probabilities (bool): Si es True, devuelve las probabilidades para cada clase\n",
        "\n",
        "        Returns:\n",
        "            list: Lista de etiquetas predichas\n",
        "            list: Lista de diccionarios con probabilidades (opcional)\n",
        "        \"\"\"\n",
        "        # Obtener embeddings para todos los textos\n",
        "        embeddings = torch.cat([self.get_embedding(text) for text in texts])\n",
        "\n",
        "        # Realizar predicciones\n",
        "        with torch.no_grad():\n",
        "            outputs = self.lstm_model(embeddings)\n",
        "            probabilities = F.softmax(outputs, dim=1) # Use F\n",
        "\n",
        "            # Obtener predicciones\n",
        "            predicted_classes = torch.argmax(probabilities, dim=1)\n",
        "            predicted_labels = [self.label_mapping[cls.item()] for cls in predicted_classes]\n",
        "\n",
        "            if return_probabilities:\n",
        "                # Convertir probabilidades a lista de diccionarios\n",
        "                probs_list = [\n",
        "                    {label: prob.item() for label, prob in zip(self.label_mapping.values(), probs)}\n",
        "                    for probs in probabilities\n",
        "                ]\n",
        "                return predicted_labels, probs_list\n",
        "\n",
        "            return predicted_labels"
      ],
      "metadata": {
        "id": "Ic7OeI9pzbgc"
      },
      "execution_count": 57,
      "outputs": []
    },
    {
      "cell_type": "code",
      "source": [
        "pipeline = TextPredictionPipeline(model, device='cpu')"
      ],
      "metadata": {
        "colab": {
          "base_uri": "https://localhost:8080/"
        },
        "id": "i0791VXm03Vw",
        "outputId": "f7d6f34a-f707-4fcd-9f9c-5a725d366341"
      },
      "execution_count": 58,
      "outputs": [
        {
          "output_type": "stream",
          "name": "stderr",
          "text": [
            "Some weights of RobertaModel were not initialized from the model checkpoint at cardiffnlp/twitter-roberta-base-sentiment and are newly initialized: ['roberta.pooler.dense.bias', 'roberta.pooler.dense.weight']\n",
            "You should probably TRAIN this model on a down-stream task to be able to use it for predictions and inference.\n"
          ]
        }
      ]
    },
    {
      "cell_type": "code",
      "source": [
        "# Hacer predicción para un solo texto\n",
        "texto = \"I am very happy\"\n",
        "prediccion = pipeline.predict(texto)\n",
        "print(f\"Emoción predicha: {prediccion}\")"
      ],
      "metadata": {
        "colab": {
          "base_uri": "https://localhost:8080/"
        },
        "id": "kfbLb5NG8a9p",
        "outputId": "3a687710-8e55-45c0-a528-823b9f635152"
      },
      "execution_count": 59,
      "outputs": [
        {
          "output_type": "stream",
          "name": "stdout",
          "text": [
            "Emoción predicha: joy\n"
          ]
        }
      ]
    },
    {
      "cell_type": "code",
      "source": [
        "# Obtener predicción con probabilidades\n",
        "prediccion, probabilidades = pipeline.predict(texto, return_probabilities=True)\n",
        "print(f\"Emoción predicha: {prediccion}\")\n",
        "print(\"Probabilidades por clase:\")\n",
        "for emocion, prob in probabilidades.items():\n",
        "    print(f\"{emocion}: {prob:.4f}\")"
      ],
      "metadata": {
        "colab": {
          "base_uri": "https://localhost:8080/"
        },
        "id": "nnFk4yuG8c1-",
        "outputId": "421c2588-5433-4322-f33c-ee8b12d0b310"
      },
      "execution_count": 60,
      "outputs": [
        {
          "output_type": "stream",
          "name": "stdout",
          "text": [
            "Emoción predicha: joy\n",
            "Probabilidades por clase:\n",
            "sadness: 0.0000\n",
            "joy: 0.9973\n",
            "love: 0.0027\n",
            "anger: 0.0000\n",
            "fear: 0.0000\n",
            "surprise: 0.0000\n"
          ]
        }
      ]
    },
    {
      "cell_type": "code",
      "source": [
        "# Hacer predicciones para varios textos a la vez\n",
        "textos = [\n",
        "    \"I hate the sun\",\n",
        "    \"I am very sad\",\n",
        "    \"omg I can not believe it\"\n",
        "]\n",
        "predicciones = pipeline.predict_batch(textos)\n",
        "for texto, pred in zip(textos, predicciones):\n",
        "    print(f\"\\nTexto: {texto}\")\n",
        "    print(f\"Emoción predicha: {pred}\")"
      ],
      "metadata": {
        "colab": {
          "base_uri": "https://localhost:8080/"
        },
        "id": "tD2qpQn68e1B",
        "outputId": "47485819-a231-491b-dc8a-fb914d7f7db7"
      },
      "execution_count": 61,
      "outputs": [
        {
          "output_type": "stream",
          "name": "stdout",
          "text": [
            "\n",
            "Texto: I hate the sun\n",
            "Emoción predicha: anger\n",
            "\n",
            "Texto: I am very sad\n",
            "Emoción predicha: sadness\n",
            "\n",
            "Texto: omg I can not believe it\n",
            "Emoción predicha: surprise\n"
          ]
        }
      ]
    },
    {
      "cell_type": "markdown",
      "source": [
        "## Save the model"
      ],
      "metadata": {
        "id": "KVN49EguAyKh"
      }
    },
    {
      "cell_type": "code",
      "source": [
        "model_save_path = 'modelo_emociones.pth'\n",
        "torch.save(model.state_dict(), model_save_path)\n",
        "print(f\"Modelo guardado en: {model_save_path}\")"
      ],
      "metadata": {
        "colab": {
          "base_uri": "https://localhost:8080/"
        },
        "id": "bL7nGnL_A1Q9",
        "outputId": "4803a078-ffea-4a5a-afd0-502eb252c676"
      },
      "execution_count": 62,
      "outputs": [
        {
          "output_type": "stream",
          "name": "stdout",
          "text": [
            "Modelo guardado en: modelo_emociones.pth\n"
          ]
        }
      ]
    }
  ]
}