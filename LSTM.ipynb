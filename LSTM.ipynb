{
  "cells": [
    {
      "cell_type": "markdown",
      "metadata": {
        "id": "zR_2-ZPXH71V"
      },
      "source": [
        "# LSTM model for sentiment Analysis"
      ]
    },
    {
      "cell_type": "code",
<<<<<<< HEAD
      "execution_count": 6,
=======
      "execution_count": 40,
>>>>>>> 7dcb8283a39be69347f9ae2e2959498fa921f1b4
      "metadata": {
        "id": "LlUCAICfCd-a"
      },
      "outputs": [],
      "source": [
        "import joblib\n",
        "import pandas as pd\n",
        "import numpy as np\n",
        "\n",
        "pd.set_option('display.max_colwidth', 180)\n",
        "\n",
        "import torch\n",
        "import torch.nn as nn\n",
        "import torch.optim as optim\n",
        "from torch.utils.data import DataLoader, Dataset\n",
        "from torch.optim.lr_scheduler import StepLR\n",
        "\n",
        "from sklearn.metrics import classification_report, f1_score\n",
        "import matplotlib.pyplot as plt"
      ]
    },
    {
      "cell_type": "markdown",
      "metadata": {
        "id": "kivi-DAjH3i1"
      },
      "source": [
        "## Read the embeddings and Labels"
      ]
    },
    {
      "cell_type": "code",
      "execution_count": 7,
      "metadata": {
        "id": "5kQuKqmXLdYg"
      },
<<<<<<< HEAD
      "outputs": [],
      "source": [
        "X_train = joblib.load('data/train_embeddings.pkl')\n",
        "y_train = pd.read_csv('data/training.csv')['label'].values\n",
        "\n",
        "X_val = joblib.load('data/validation_embeddings.pkl')\n",
        "y_val = pd.read_csv('data/validation.csv')['label'].values\n",
        "\n",
        "X_test = joblib.load('data/test_embeddings.pkl')\n",
        "y_test = pd.read_csv('data/test.csv')['label'].values"
      ]
=======
      "execution_count": 41,
      "outputs": []
>>>>>>> 7dcb8283a39be69347f9ae2e2959498fa921f1b4
    },
    {
      "cell_type": "code",
      "source": [
        "train = pd.read_csv('training.csv')\n",
        "train.head()\n",
        "#train[train.duplicated('text', keep=False)].sort_values(by='text')"
      ],
      "metadata": {
        "colab": {
          "base_uri": "https://localhost:8080/",
          "height": 204
        },
        "id": "cCp2CMwD3E5h",
        "outputId": "b4e4db31-b0a9-4e2d-a831-03491059ff8c"
      },
      "execution_count": 42,
      "outputs": [
        {
          "output_type": "execute_result",
          "data": {
            "text/plain": [
              "                                                                                                           text  \\\n",
              "0                                                                                       i didnt feel humiliated   \n",
              "1  i can go from feeling so hopeless to so damned hopeful just from being around someone who cares and is awake   \n",
              "2                                                              im grabbing a minute to post i feel greedy wrong   \n",
              "3                  i am ever feeling nostalgic about the fireplace i will know that it is still on the property   \n",
              "4                                                                                          i am feeling grouchy   \n",
              "\n",
              "   label  \n",
              "0      0  \n",
              "1      0  \n",
              "2      3  \n",
              "3      2  \n",
              "4      3  "
            ],
            "text/html": [
              "\n",
              "  <div id=\"df-a5856c1a-7825-44b1-8477-b0669b384f24\" class=\"colab-df-container\">\n",
              "    <div>\n",
              "<style scoped>\n",
              "    .dataframe tbody tr th:only-of-type {\n",
              "        vertical-align: middle;\n",
              "    }\n",
              "\n",
              "    .dataframe tbody tr th {\n",
              "        vertical-align: top;\n",
              "    }\n",
              "\n",
              "    .dataframe thead th {\n",
              "        text-align: right;\n",
              "    }\n",
              "</style>\n",
              "<table border=\"1\" class=\"dataframe\">\n",
              "  <thead>\n",
              "    <tr style=\"text-align: right;\">\n",
              "      <th></th>\n",
              "      <th>text</th>\n",
              "      <th>label</th>\n",
              "    </tr>\n",
              "  </thead>\n",
              "  <tbody>\n",
              "    <tr>\n",
              "      <th>0</th>\n",
              "      <td>i didnt feel humiliated</td>\n",
              "      <td>0</td>\n",
              "    </tr>\n",
              "    <tr>\n",
              "      <th>1</th>\n",
              "      <td>i can go from feeling so hopeless to so damned hopeful just from being around someone who cares and is awake</td>\n",
              "      <td>0</td>\n",
              "    </tr>\n",
              "    <tr>\n",
              "      <th>2</th>\n",
              "      <td>im grabbing a minute to post i feel greedy wrong</td>\n",
              "      <td>3</td>\n",
              "    </tr>\n",
              "    <tr>\n",
              "      <th>3</th>\n",
              "      <td>i am ever feeling nostalgic about the fireplace i will know that it is still on the property</td>\n",
              "      <td>2</td>\n",
              "    </tr>\n",
              "    <tr>\n",
              "      <th>4</th>\n",
              "      <td>i am feeling grouchy</td>\n",
              "      <td>3</td>\n",
              "    </tr>\n",
              "  </tbody>\n",
              "</table>\n",
              "</div>\n",
              "    <div class=\"colab-df-buttons\">\n",
              "\n",
              "  <div class=\"colab-df-container\">\n",
              "    <button class=\"colab-df-convert\" onclick=\"convertToInteractive('df-a5856c1a-7825-44b1-8477-b0669b384f24')\"\n",
              "            title=\"Convert this dataframe to an interactive table.\"\n",
              "            style=\"display:none;\">\n",
              "\n",
              "  <svg xmlns=\"http://www.w3.org/2000/svg\" height=\"24px\" viewBox=\"0 -960 960 960\">\n",
              "    <path d=\"M120-120v-720h720v720H120Zm60-500h600v-160H180v160Zm220 220h160v-160H400v160Zm0 220h160v-160H400v160ZM180-400h160v-160H180v160Zm440 0h160v-160H620v160ZM180-180h160v-160H180v160Zm440 0h160v-160H620v160Z\"/>\n",
              "  </svg>\n",
              "    </button>\n",
              "\n",
              "  <style>\n",
              "    .colab-df-container {\n",
              "      display:flex;\n",
              "      gap: 12px;\n",
              "    }\n",
              "\n",
              "    .colab-df-convert {\n",
              "      background-color: #E8F0FE;\n",
              "      border: none;\n",
              "      border-radius: 50%;\n",
              "      cursor: pointer;\n",
              "      display: none;\n",
              "      fill: #1967D2;\n",
              "      height: 32px;\n",
              "      padding: 0 0 0 0;\n",
              "      width: 32px;\n",
              "    }\n",
              "\n",
              "    .colab-df-convert:hover {\n",
              "      background-color: #E2EBFA;\n",
              "      box-shadow: 0px 1px 2px rgba(60, 64, 67, 0.3), 0px 1px 3px 1px rgba(60, 64, 67, 0.15);\n",
              "      fill: #174EA6;\n",
              "    }\n",
              "\n",
              "    .colab-df-buttons div {\n",
              "      margin-bottom: 4px;\n",
              "    }\n",
              "\n",
              "    [theme=dark] .colab-df-convert {\n",
              "      background-color: #3B4455;\n",
              "      fill: #D2E3FC;\n",
              "    }\n",
              "\n",
              "    [theme=dark] .colab-df-convert:hover {\n",
              "      background-color: #434B5C;\n",
              "      box-shadow: 0px 1px 3px 1px rgba(0, 0, 0, 0.15);\n",
              "      filter: drop-shadow(0px 1px 2px rgba(0, 0, 0, 0.3));\n",
              "      fill: #FFFFFF;\n",
              "    }\n",
              "  </style>\n",
              "\n",
              "    <script>\n",
              "      const buttonEl =\n",
              "        document.querySelector('#df-a5856c1a-7825-44b1-8477-b0669b384f24 button.colab-df-convert');\n",
              "      buttonEl.style.display =\n",
              "        google.colab.kernel.accessAllowed ? 'block' : 'none';\n",
              "\n",
              "      async function convertToInteractive(key) {\n",
              "        const element = document.querySelector('#df-a5856c1a-7825-44b1-8477-b0669b384f24');\n",
              "        const dataTable =\n",
              "          await google.colab.kernel.invokeFunction('convertToInteractive',\n",
              "                                                    [key], {});\n",
              "        if (!dataTable) return;\n",
              "\n",
              "        const docLinkHtml = 'Like what you see? Visit the ' +\n",
              "          '<a target=\"_blank\" href=https://colab.research.google.com/notebooks/data_table.ipynb>data table notebook</a>'\n",
              "          + ' to learn more about interactive tables.';\n",
              "        element.innerHTML = '';\n",
              "        dataTable['output_type'] = 'display_data';\n",
              "        await google.colab.output.renderOutput(dataTable, element);\n",
              "        const docLink = document.createElement('div');\n",
              "        docLink.innerHTML = docLinkHtml;\n",
              "        element.appendChild(docLink);\n",
              "      }\n",
              "    </script>\n",
              "  </div>\n",
              "\n",
              "\n",
              "<div id=\"df-8bb76214-b275-4bd6-a921-d942349aecd2\">\n",
              "  <button class=\"colab-df-quickchart\" onclick=\"quickchart('df-8bb76214-b275-4bd6-a921-d942349aecd2')\"\n",
              "            title=\"Suggest charts\"\n",
              "            style=\"display:none;\">\n",
              "\n",
              "<svg xmlns=\"http://www.w3.org/2000/svg\" height=\"24px\"viewBox=\"0 0 24 24\"\n",
              "     width=\"24px\">\n",
              "    <g>\n",
              "        <path d=\"M19 3H5c-1.1 0-2 .9-2 2v14c0 1.1.9 2 2 2h14c1.1 0 2-.9 2-2V5c0-1.1-.9-2-2-2zM9 17H7v-7h2v7zm4 0h-2V7h2v10zm4 0h-2v-4h2v4z\"/>\n",
              "    </g>\n",
              "</svg>\n",
              "  </button>\n",
              "\n",
              "<style>\n",
              "  .colab-df-quickchart {\n",
              "      --bg-color: #E8F0FE;\n",
              "      --fill-color: #1967D2;\n",
              "      --hover-bg-color: #E2EBFA;\n",
              "      --hover-fill-color: #174EA6;\n",
              "      --disabled-fill-color: #AAA;\n",
              "      --disabled-bg-color: #DDD;\n",
              "  }\n",
              "\n",
              "  [theme=dark] .colab-df-quickchart {\n",
              "      --bg-color: #3B4455;\n",
              "      --fill-color: #D2E3FC;\n",
              "      --hover-bg-color: #434B5C;\n",
              "      --hover-fill-color: #FFFFFF;\n",
              "      --disabled-bg-color: #3B4455;\n",
              "      --disabled-fill-color: #666;\n",
              "  }\n",
              "\n",
              "  .colab-df-quickchart {\n",
              "    background-color: var(--bg-color);\n",
              "    border: none;\n",
              "    border-radius: 50%;\n",
              "    cursor: pointer;\n",
              "    display: none;\n",
              "    fill: var(--fill-color);\n",
              "    height: 32px;\n",
              "    padding: 0;\n",
              "    width: 32px;\n",
              "  }\n",
              "\n",
              "  .colab-df-quickchart:hover {\n",
              "    background-color: var(--hover-bg-color);\n",
              "    box-shadow: 0 1px 2px rgba(60, 64, 67, 0.3), 0 1px 3px 1px rgba(60, 64, 67, 0.15);\n",
              "    fill: var(--button-hover-fill-color);\n",
              "  }\n",
              "\n",
              "  .colab-df-quickchart-complete:disabled,\n",
              "  .colab-df-quickchart-complete:disabled:hover {\n",
              "    background-color: var(--disabled-bg-color);\n",
              "    fill: var(--disabled-fill-color);\n",
              "    box-shadow: none;\n",
              "  }\n",
              "\n",
              "  .colab-df-spinner {\n",
              "    border: 2px solid var(--fill-color);\n",
              "    border-color: transparent;\n",
              "    border-bottom-color: var(--fill-color);\n",
              "    animation:\n",
              "      spin 1s steps(1) infinite;\n",
              "  }\n",
              "\n",
              "  @keyframes spin {\n",
              "    0% {\n",
              "      border-color: transparent;\n",
              "      border-bottom-color: var(--fill-color);\n",
              "      border-left-color: var(--fill-color);\n",
              "    }\n",
              "    20% {\n",
              "      border-color: transparent;\n",
              "      border-left-color: var(--fill-color);\n",
              "      border-top-color: var(--fill-color);\n",
              "    }\n",
              "    30% {\n",
              "      border-color: transparent;\n",
              "      border-left-color: var(--fill-color);\n",
              "      border-top-color: var(--fill-color);\n",
              "      border-right-color: var(--fill-color);\n",
              "    }\n",
              "    40% {\n",
              "      border-color: transparent;\n",
              "      border-right-color: var(--fill-color);\n",
              "      border-top-color: var(--fill-color);\n",
              "    }\n",
              "    60% {\n",
              "      border-color: transparent;\n",
              "      border-right-color: var(--fill-color);\n",
              "    }\n",
              "    80% {\n",
              "      border-color: transparent;\n",
              "      border-right-color: var(--fill-color);\n",
              "      border-bottom-color: var(--fill-color);\n",
              "    }\n",
              "    90% {\n",
              "      border-color: transparent;\n",
              "      border-bottom-color: var(--fill-color);\n",
              "    }\n",
              "  }\n",
              "</style>\n",
              "\n",
              "  <script>\n",
              "    async function quickchart(key) {\n",
              "      const quickchartButtonEl =\n",
              "        document.querySelector('#' + key + ' button');\n",
              "      quickchartButtonEl.disabled = true;  // To prevent multiple clicks.\n",
              "      quickchartButtonEl.classList.add('colab-df-spinner');\n",
              "      try {\n",
              "        const charts = await google.colab.kernel.invokeFunction(\n",
              "            'suggestCharts', [key], {});\n",
              "      } catch (error) {\n",
              "        console.error('Error during call to suggestCharts:', error);\n",
              "      }\n",
              "      quickchartButtonEl.classList.remove('colab-df-spinner');\n",
              "      quickchartButtonEl.classList.add('colab-df-quickchart-complete');\n",
              "    }\n",
              "    (() => {\n",
              "      let quickchartButtonEl =\n",
              "        document.querySelector('#df-8bb76214-b275-4bd6-a921-d942349aecd2 button');\n",
              "      quickchartButtonEl.style.display =\n",
              "        google.colab.kernel.accessAllowed ? 'block' : 'none';\n",
              "    })();\n",
              "  </script>\n",
              "</div>\n",
              "\n",
              "    </div>\n",
              "  </div>\n"
            ],
            "application/vnd.google.colaboratory.intrinsic+json": {
              "type": "dataframe",
              "summary": "{\n  \"name\": \"#train[train\",\n  \"rows\": 5,\n  \"fields\": [\n    {\n      \"column\": \"text\",\n      \"properties\": {\n        \"dtype\": \"string\",\n        \"num_unique_values\": 5,\n        \"samples\": [\n          \"i can go from feeling so hopeless to so damned hopeful just from being around someone who cares and is awake\",\n          \"i am feeling grouchy\",\n          \"im grabbing a minute to post i feel greedy wrong\"\n        ],\n        \"semantic_type\": \"\",\n        \"description\": \"\"\n      }\n    },\n    {\n      \"column\": \"label\",\n      \"properties\": {\n        \"dtype\": \"number\",\n        \"std\": 1,\n        \"min\": 0,\n        \"max\": 3,\n        \"num_unique_values\": 3,\n        \"samples\": [\n          0,\n          3,\n          2\n        ],\n        \"semantic_type\": \"\",\n        \"description\": \"\"\n      }\n    }\n  ]\n}"
            }
          },
          "metadata": {},
          "execution_count": 42
        }
      ]
    },
    {
      "cell_type": "markdown",
      "metadata": {
        "id": "mpyHKU_SxkOm"
      },
      "source": [
        "## Number of classes or emotions"
      ]
    },
    {
      "cell_type": "code",
      "execution_count": 8,
      "metadata": {
        "colab": {
          "base_uri": "https://localhost:8080/"
        },
        "id": "6bhf5TdiZ2hw",
        "outputId": "fe2dc20a-9ffd-415a-fdbb-a14889113c47"
      },
<<<<<<< HEAD
=======
      "execution_count": 43,
>>>>>>> 7dcb8283a39be69347f9ae2e2959498fa921f1b4
      "outputs": [
        {
          "name": "stdout",
          "output_type": "stream",
          "text": [
            "Unique labels in training set: [0 1 2 3 4 5]\n",
            "Min label: 0\n",
            "Max label: 5\n"
          ]
        }
      ],
      "source": [
        "print(\"Unique labels in training set:\", np.unique(y_train))\n",
        "print(\"Min label:\", np.min(y_train))\n",
        "print(\"Max label:\", np.max(y_train))"
      ]
    },
    {
      "cell_type": "code",
      "execution_count": 9,
      "metadata": {
        "colab": {
          "base_uri": "https://localhost:8080/"
        },
        "id": "sKpcZTmqR5qM",
        "outputId": "e771e91b-089e-4953-8843-5c40eeb34c6f"
      },
<<<<<<< HEAD
=======
      "execution_count": 44,
>>>>>>> 7dcb8283a39be69347f9ae2e2959498fa921f1b4
      "outputs": [
        {
          "data": {
            "text/plain": [
              "((16000, 768), (16000,))"
            ]
          },
          "execution_count": 9,
          "metadata": {},
<<<<<<< HEAD
          "output_type": "execute_result"
=======
          "execution_count": 44
>>>>>>> 7dcb8283a39be69347f9ae2e2959498fa921f1b4
        }
      ],
      "source": [
        "X_train.shape, y_train.shape"
      ]
    },
    {
      "cell_type": "code",
      "execution_count": 10,
      "metadata": {
        "colab": {
          "base_uri": "https://localhost:8080/"
        },
        "id": "Zx2nnykRQwyI",
        "outputId": "11a1c30f-6598-4765-a5f4-a524d3c768ce"
      },
<<<<<<< HEAD
=======
      "execution_count": 45,
>>>>>>> 7dcb8283a39be69347f9ae2e2959498fa921f1b4
      "outputs": [
        {
          "data": {
            "text/plain": [
              "(numpy.ndarray, numpy.ndarray)"
            ]
          },
          "execution_count": 10,
          "metadata": {},
<<<<<<< HEAD
          "output_type": "execute_result"
=======
          "execution_count": 45
>>>>>>> 7dcb8283a39be69347f9ae2e2959498fa921f1b4
        }
      ],
      "source": [
        "type(X_train), type(y_train)"
      ]
    },
    {
      "cell_type": "markdown",
      "metadata": {
        "id": "3S8Todo0xrJV"
      },
      "source": [
        "## Convert the data into Dataset and DataLoader\n",
        "\n"
      ]
    },
    {
      "cell_type": "code",
      "execution_count": 11,
      "metadata": {
        "id": "OFomAsQVMeGS"
      },
      "outputs": [],
      "source": [
        "class EmotionDataset(Dataset):\n",
        "    def __init__(self, embeddings, labels):\n",
        "        self.embeddings = embeddings  # Lista de embeddings generados por RoBERTa\n",
        "        self.labels = labels.squeeze()  # Lista de etiquetas\n",
        "\n",
        "    def __len__(self):\n",
        "        return len(self.labels)\n",
        "\n",
        "    def __getitem__(self, idx):\n",
        "        return torch.tensor(self.embeddings[idx], dtype=torch.float32), torch.tensor(self.labels[idx], dtype=torch.long)"
<<<<<<< HEAD
      ]
=======
      ],
      "metadata": {
        "id": "OFomAsQVMeGS"
      },
      "execution_count": 46,
      "outputs": []
>>>>>>> 7dcb8283a39be69347f9ae2e2959498fa921f1b4
    },
    {
      "cell_type": "code",
      "execution_count": 12,
      "metadata": {
        "id": "S01Limk_LbeT"
      },
      "outputs": [],
      "source": [
        "# Dataset type conversion\n",
        "train_dataset = EmotionDataset(X_train, y_train)\n",
        "val_dataset = EmotionDataset(X_val, y_val)\n",
        "test_dataset = EmotionDataset(X_test, y_test)\n",
        "\n",
        "# DataLoaderr to make use of batches\n",
        "train_loader = DataLoader(train_dataset, batch_size=32, shuffle=True)\n",
        "val_loader = DataLoader(val_dataset, batch_size=32, shuffle=False)\n",
        "test_loader = DataLoader(test_dataset, batch_size=32, shuffle=False)"
<<<<<<< HEAD
      ]
=======
      ],
      "metadata": {
        "id": "S01Limk_LbeT"
      },
      "execution_count": 47,
      "outputs": []
>>>>>>> 7dcb8283a39be69347f9ae2e2959498fa921f1b4
    },
    {
      "cell_type": "code",
      "execution_count": 13,
      "metadata": {
        "colab": {
          "base_uri": "https://localhost:8080/"
        },
        "id": "TElFIlaYRClw",
        "outputId": "e38d4fce-6a78-49ee-a91a-77c786e1c151"
      },
<<<<<<< HEAD
=======
      "execution_count": 48,
>>>>>>> 7dcb8283a39be69347f9ae2e2959498fa921f1b4
      "outputs": [
        {
          "data": {
            "text/plain": [
              "(__main__.EmotionDataset, torch.utils.data.dataloader.DataLoader)"
            ]
          },
          "execution_count": 13,
          "metadata": {},
<<<<<<< HEAD
          "output_type": "execute_result"
=======
          "execution_count": 48
>>>>>>> 7dcb8283a39be69347f9ae2e2959498fa921f1b4
        }
      ],
      "source": [
        "type(train_dataset), type(train_loader)"
      ]
    },
    {
      "cell_type": "markdown",
      "metadata": {
        "id": "D4v8Ds7UQcKC"
      },
      "source": [
        "## LSTM Model\n",
        "\n",
        "Parameters:\n",
        "- Input_size: Embeddings size\n",
        "- Hidden_size: Number of neurons in the LSTM\n",
        "- num_layers: Number of stacking LSTM\n",
        "- output_size: number of emotions or classes"
      ]
    },
    {
      "cell_type": "code",
      "execution_count": 14,
      "metadata": {
        "id": "iBLkgJ6XokjN"
      },
      "outputs": [],
      "source": [
        "class LSTM(nn.Module):\n",
        "  def __init__(self, input_size, hidden_size, num_layers, output_size, dropout):\n",
        "    super(LSTM, self).__init__()\n",
        "    self.hidden_size = hidden_size\n",
        "    self.num_layers = num_layers\n",
        "\n",
        "    # LSTM\n",
        "    self.lstm = nn.LSTM(\n",
        "        input_size,\n",
        "        hidden_size,\n",
        "        num_layers,\n",
        "        dropout=dropout,\n",
        "        batch_first=True\n",
        "    )\n",
        "\n",
        "    self.classifier = nn.Sequential(\n",
        "        nn.Linear(hidden_size, hidden_size // 2),\n",
        "        nn.ReLU(),\n",
        "        nn.Dropout(dropout),\n",
        "        nn.Linear(hidden_size // 2, hidden_size//4),\n",
        "        nn.ReLU(),\n",
        "        nn.Dropout(dropout),\n",
        "        nn.Linear(hidden_size//4, output_size)\n",
        "    )\n",
        "\n",
        "\n",
        "  def forward(self, x):\n",
        "    if len(x.shape) == 2:\n",
        "      x = x.unsqueeze(1)  # Agrega dimensión de secuencia (batch_size, 1, embedding_dim)\n",
        "\n",
        "    h0 = torch.zeros(self.num_layers, x.size(0), self.hidden_size)\n",
        "    c0 = torch.zeros(self.num_layers, x.size(0), self.hidden_size)\n",
        "\n",
        "    # LSTM output: output of all the hidden_state, hidde_state, cell_state\n",
        "    lstm_out, (hidden, _) = self.lstm(x, (h0,c0))\n",
        "    # out: batch_size, seq_length, hidden_state\n",
        "\n",
        "    # Classification layers\n",
        "    output = self.classifier(lstm_out[:, -1, :])\n",
        "    return output"
<<<<<<< HEAD
      ]
=======
      ],
      "metadata": {
        "id": "iBLkgJ6XokjN"
      },
      "execution_count": 54,
      "outputs": []
>>>>>>> 7dcb8283a39be69347f9ae2e2959498fa921f1b4
    },
    {
      "cell_type": "markdown",
      "metadata": {
        "id": "fPaEBGvhuF-_"
      },
      "source": [
        "### Entrenar y Evaluar"
      ]
    },
    {
      "cell_type": "code",
      "execution_count": 15,
      "metadata": {
        "id": "5OQ2OyiUuOmD"
      },
      "outputs": [],
      "source": [
        "def train_and_evaluate(model, train_loader, val_loader, criterion, optimizer, epochs=20, patience=5, device=\"cpu\"):\n",
        "    best_val_f1 = 0\n",
        "    patience_counter = 0\n",
        "\n",
        "    train_losses = []\n",
        "    val_losses = []\n",
        "    train_f1_scores = []\n",
        "    val_f1_scores = []\n",
        "\n",
        "    scheduler = StepLR(optimizer, step_size=5, gamma=0.5)\n",
        "\n",
        "    for epoch in range(epochs):\n",
        "        model.train()\n",
        "        total_loss = 0\n",
        "        train_predictions = []\n",
        "        train_true_labels = []\n",
        "\n",
        "        for embeddings, labels in train_loader:\n",
        "            embeddings, labels = embeddings.to(device), labels.to(device)\n",
        "\n",
        "            # Forward\n",
        "            outputs = model(embeddings)\n",
        "            loss = criterion(outputs, labels)\n",
        "            total_loss += loss.item()\n",
        "\n",
        "            # Store predictions for F1-score\n",
        "            predictions = torch.argmax(outputs, dim=1)\n",
        "            train_predictions.extend(predictions.cpu().numpy())\n",
        "            train_true_labels.extend(labels.cpu().numpy())\n",
        "\n",
        "            # Backward\n",
        "            optimizer.zero_grad()\n",
        "            loss.backward()\n",
        "            optimizer.step()\n",
        "\n",
        "        avg_loss = total_loss / len(train_loader)\n",
        "        train_losses.append(avg_loss)\n",
        "\n",
        "        # Calculate Training F1-score\n",
        "        train_f1 = f1_score(train_true_labels, train_predictions, average='weighted')\n",
        "        train_f1_scores.append(train_f1)\n",
        "\n",
        "        # Validation phase\n",
        "        model.eval()\n",
        "        val_predictions = []\n",
        "        val_true_labels = []\n",
        "        val_loss = 0\n",
        "\n",
        "        with torch.no_grad():\n",
        "            for embeddings, labels in val_loader:\n",
        "                embeddings, labels = embeddings.to(device), labels.to(device)\n",
        "                outputs = model(embeddings)\n",
        "\n",
        "                # Calculate loss\n",
        "                loss = criterion(outputs, labels)\n",
        "                val_loss += loss.item()\n",
        "\n",
        "                # Store predictions for F1-score\n",
        "                predictions = torch.argmax(outputs, dim=1)\n",
        "                val_predictions.extend(predictions.cpu().numpy())\n",
        "                val_true_labels.extend(labels.cpu().numpy())\n",
        "\n",
        "        avg_val_loss = val_loss / len(val_loader)\n",
        "        val_losses.append(avg_val_loss)\n",
        "\n",
        "        # Calculate Validation F1-score\n",
        "        val_f1 = f1_score(val_true_labels, val_predictions, average='weighted')\n",
        "        val_f1_scores.append(val_f1)\n",
        "\n",
        "        # Print epoch results\n",
        "        if epoch %10 == 0:\n",
        "            print(f\"Epoch {epoch+1}/{epochs}\")\n",
        "            print(f\"Training Loss: {avg_loss:.4f} | Validation Loss: {avg_val_loss:.4f}\")\n",
        "            print(f\"Training F1-Score: {train_f1:.4f} | Validation F1-Score: {val_f1:.4f}\")\n",
        "\n",
        "        # Early stopping check\n",
        "        if val_f1 > best_val_f1:\n",
        "            best_val_f1 = val_f1\n",
        "            patience_counter = 0\n",
        "            torch.save(model.state_dict(), 'best_model.pth')\n",
        "        else:\n",
        "            patience_counter += 1\n",
        "            if patience_counter >= patience:\n",
        "                print(\"Early stopping triggered\")\n",
        "                break\n",
        "\n",
        "        scheduler.step()\n",
        "\n",
        "    return train_losses, val_losses, train_f1_scores, val_f1_scores\n"
<<<<<<< HEAD
      ]
=======
      ],
      "metadata": {
        "id": "5OQ2OyiUuOmD"
      },
      "execution_count": 50,
      "outputs": []
>>>>>>> 7dcb8283a39be69347f9ae2e2959498fa921f1b4
    },
    {
      "cell_type": "code",
      "execution_count": 16,
      "metadata": {
        "id": "keH4d6aevkva"
      },
      "outputs": [],
      "source": [
        "def plot_training_curves(train_losses, val_losses, train_f1_scores, val_f1_scores):\n",
        "    plt.figure(figsize=(14, 6))\n",
        "\n",
        "    # Losses (Training and Validation)\n",
        "    plt.subplot(1, 2, 1)\n",
        "    plt.plot(train_losses, label='Training Loss')\n",
        "    plt.plot(val_losses, label='Validation Loss')\n",
        "    plt.title('Training and Validation Loss')\n",
        "    plt.xlabel('Epoch')\n",
        "    plt.ylabel('Loss')\n",
        "    plt.legend()\n",
        "\n",
        "    # F1-scores (Training and Validation)\n",
        "    plt.subplot(1, 2, 2)\n",
        "    plt.plot(train_f1_scores, label='Training F1-Score')\n",
        "    plt.plot(val_f1_scores, label='Validation F1-Score')\n",
        "    plt.title('Training and Validation F1-Score')\n",
        "    plt.xlabel('Epoch')\n",
        "    plt.ylabel('F1-Score')\n",
        "    plt.legend()\n",
        "\n",
        "    plt.tight_layout()\n",
        "    plt.show()\n"
<<<<<<< HEAD
      ]
=======
      ],
      "metadata": {
        "id": "keH4d6aevkva"
      },
      "execution_count": 51,
      "outputs": []
>>>>>>> 7dcb8283a39be69347f9ae2e2959498fa921f1b4
    },
    {
      "cell_type": "markdown",
      "metadata": {
        "id": "Pb7RmAVDtvqH"
      },
      "source": [
        "### Hiperparámetros"
      ]
    },
    {
      "cell_type": "code",
      "execution_count": 19,
      "metadata": {
        "colab": {
          "base_uri": "https://localhost:8080/"
        },
        "id": "blSbDD24tx0B",
        "outputId": "a591ec85-efcd-4aea-bc9b-232f259d3864"
      },
      "outputs": [
        {
          "name": "stdout",
          "output_type": "stream",
          "text": [
            "Epoch 1/11\n",
            "Training Loss: 1.2104 | Validation Loss: 1.0545\n",
            "Training F1-Score: 0.5087 | Validation F1-Score: 0.5529\n",
            "Epoch 11/11\n",
            "Training Loss: 0.7889 | Validation Loss: 0.7922\n",
            "Training F1-Score: 0.7025 | Validation F1-Score: 0.6962\n"
          ]
        }
      ],
      "source": [
        "embedding_dim = 768  # Embedding size\n",
        "hidden_dim = 256\n",
        "output_dim = 6  # Number of emotion or classes\n",
        "num_layers = 2\n",
        "dropout = 0.45\n",
        "\n",
        "# Model\n",
        "model = LSTM(embedding_dim, hidden_dim, num_layers, output_dim, dropout)\n",
        "\n",
        "# Loss and Optimizer\n",
        "criterion = nn.CrossEntropyLoss()\n",
        "optimizer = optim.Adam(model.parameters(), lr=1e-3)\n",
        "\n",
        "train_losses, val_losses, train_f1_scores, val_f1_scores = train_and_evaluate(\n",
        "    model, train_loader, val_loader, criterion, optimizer, epochs=11, patience=5\n",
        ")"
<<<<<<< HEAD
=======
      ],
      "metadata": {
        "colab": {
          "base_uri": "https://localhost:8080/"
        },
        "id": "blSbDD24tx0B",
        "outputId": "94288c1e-355b-45b4-8a2f-7522b0c8bec6"
      },
      "execution_count": 55,
      "outputs": [
        {
          "output_type": "stream",
          "name": "stdout",
          "text": [
            "Epoch 1/200\n",
            "Training Loss: 1.3226 | Validation Loss: 1.1718\n",
            "Training F1-Score: 0.4278 | Validation F1-Score: 0.4813\n",
            "Epoch 11/200\n",
            "Training Loss: 0.8983 | Validation Loss: 0.8773\n",
            "Training F1-Score: 0.6602 | Validation F1-Score: 0.6694\n",
            "Epoch 21/200\n",
            "Training Loss: 0.8068 | Validation Loss: 0.8216\n",
            "Training F1-Score: 0.6953 | Validation F1-Score: 0.6899\n",
            "Epoch 31/200\n",
            "Training Loss: 0.7821 | Validation Loss: 0.8085\n",
            "Training F1-Score: 0.7097 | Validation F1-Score: 0.7040\n",
            "Early stopping triggered\n"
          ]
        }
>>>>>>> 7dcb8283a39be69347f9ae2e2959498fa921f1b4
      ]
    },
    {
      "cell_type": "code",
<<<<<<< HEAD
      "execution_count": 20,
      "metadata": {},
=======
      "source": [
        "plot_training_curves(train_losses, val_losses, train_f1_scores, val_f1_scores)"
      ],
      "metadata": {
        "colab": {
          "base_uri": "https://localhost:8080/",
          "height": 562
        },
        "id": "4sD43AmSy71B",
        "outputId": "dcd042de-6736-43ec-8a86-42f3288ddff5"
      },
      "execution_count": 56,
>>>>>>> 7dcb8283a39be69347f9ae2e2959498fa921f1b4
      "outputs": [
        {
          "data": {
            "image/png": "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",
            "text/plain": [
              "<Figure size 1400x600 with 2 Axes>"
<<<<<<< HEAD
            ]
=======
            ],
            "image/png": "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\n"
>>>>>>> 7dcb8283a39be69347f9ae2e2959498fa921f1b4
          },
          "metadata": {},
          "output_type": "display_data"
        }
      ],
      "source": [
        "plot_training_curves(train_losses, val_losses, train_f1_scores, val_f1_scores)"
      ]
    },
    {
      "cell_type": "markdown",
      "source": [
        "## Predicciones"
      ],
      "metadata": {
        "id": "YFfl8uVozZxv"
      }
    },
    {
      "cell_type": "code",
      "source": [
        "from transformers import AutoTokenizer, AutoModel\n",
        "import torch.nn.functional as F # Import F\n",
        "\n",
        "class TextPredictionPipeline:\n",
        "    def __init__(self, lstm_model, device='cpu'):\n",
        "        # Cargar el modelo LSTM entrenado\n",
        "        self.lstm_model = lstm_model\n",
        "        self.lstm_model.to(device)\n",
        "        self.lstm_model.eval()\n",
        "\n",
        "        # Cargar tokenizer y modelo\n",
        "        self.tokenizer = AutoTokenizer.from_pretrained(\"cardiffnlp/twitter-roberta-base-sentiment\")\n",
        "        self.model = AutoModel.from_pretrained(\"cardiffnlp/twitter-roberta-base-sentiment\")\n",
        "        self.model.to(device)\n",
        "        self.model.eval()\n",
        "        self.device = device\n",
        "\n",
        "        # Mapeo de etiquetas\n",
        "        self.label_mapping = {\n",
        "            0: \"sadness\",\n",
        "            1: \"joy\",\n",
        "            2: \"love\",\n",
        "            3: \"anger\",\n",
        "            4: \"fear\",\n",
        "            5: \"surprise\"\n",
        "        }\n",
        "\n",
        "    def get_embedding(self, text):\n",
        "        \"\"\"Obtiene el embedding para un texto.\"\"\"\n",
        "        with torch.no_grad():\n",
        "            # Tokenizar el texto\n",
        "            inputs = self.tokenizer(\n",
        "                text,\n",
        "                return_tensors=\"pt\",\n",
        "                padding=True,\n",
        "                truncation=True,\n",
        "                max_length=512\n",
        "            ).to(self.device)\n",
        "\n",
        "            # Obtener embeddings\n",
        "            outputs = self.model(**inputs)\n",
        "\n",
        "            # Usar el embedding del token [CLS] (primer token)\n",
        "            embeddings = outputs.last_hidden_state[:, 0, :]\n",
        "\n",
        "            return embeddings\n",
        "\n",
        "    def predict(self, text, return_probabilities=False):\n",
        "        \"\"\"\n",
        "        Realiza una predicción para un texto dado.\n",
        "\n",
        "        Args:\n",
        "            text (str): Texto a clasificar\n",
        "            return_probabilities (bool): Si es True, devuelve las probabilidades para cada clase\n",
        "\n",
        "        Returns:\n",
        "            str: Etiqueta predicha\n",
        "            dict: Probabilidades por clase (opcional)\n",
        "        \"\"\"\n",
        "        # Obtener embedding\n",
        "        embedding = self.get_embedding(text)\n",
        "\n",
        "        # Realizar predicción con el modelo LSTM\n",
        "        with torch.no_grad():\n",
        "            outputs = self.lstm_model(embedding)\n",
        "            probabilities = F.softmax(outputs, dim=1) # Use F\n",
        "\n",
        "            # Obtener la predicción\n",
        "            predicted_class = torch.argmax(probabilities, dim=1).item()\n",
        "            predicted_label = self.label_mapping[predicted_class]\n",
        "\n",
        "            if return_probabilities:\n",
        "                # Convertir probabilidades a diccionario\n",
        "                probs_dict = {\n",
        "                    label: prob.item()\n",
        "                    for label, prob in zip(self.label_mapping.values(), probabilities[0])\n",
        "                }\n",
        "                return predicted_label, probs_dict\n",
        "\n",
        "            return predicted_label\n",
        "\n",
        "    def predict_batch(self, texts, return_probabilities=False):\n",
        "        \"\"\"\n",
        "        Realiza predicciones para una lista de textos.\n",
        "\n",
        "        Args:\n",
        "            texts (list): Lista de textos a clasificar\n",
        "            return_probabilities (bool): Si es True, devuelve las probabilidades para cada clase\n",
        "\n",
        "        Returns:\n",
        "            list: Lista de etiquetas predichas\n",
        "            list: Lista de diccionarios con probabilidades (opcional)\n",
        "        \"\"\"\n",
        "        # Obtener embeddings para todos los textos\n",
        "        embeddings = torch.cat([self.get_embedding(text) for text in texts])\n",
        "\n",
        "        # Realizar predicciones\n",
        "        with torch.no_grad():\n",
        "            outputs = self.lstm_model(embeddings)\n",
        "            probabilities = F.softmax(outputs, dim=1) # Use F\n",
        "\n",
        "            # Obtener predicciones\n",
        "            predicted_classes = torch.argmax(probabilities, dim=1)\n",
        "            predicted_labels = [self.label_mapping[cls.item()] for cls in predicted_classes]\n",
        "\n",
        "            if return_probabilities:\n",
        "                # Convertir probabilidades a lista de diccionarios\n",
        "                probs_list = [\n",
        "                    {label: prob.item() for label, prob in zip(self.label_mapping.values(), probs)}\n",
        "                    for probs in probabilities\n",
        "                ]\n",
        "                return predicted_labels, probs_list\n",
        "\n",
        "            return predicted_labels"
      ],
      "metadata": {
        "id": "Ic7OeI9pzbgc"
      },
      "execution_count": 57,
      "outputs": []
    },
    {
      "cell_type": "code",
      "source": [
        "pipeline = TextPredictionPipeline(model, device='cpu')"
      ],
      "metadata": {
        "colab": {
          "base_uri": "https://localhost:8080/"
        },
        "id": "i0791VXm03Vw",
        "outputId": "f7d6f34a-f707-4fcd-9f9c-5a725d366341"
      },
      "execution_count": 58,
      "outputs": [
        {
          "output_type": "stream",
          "name": "stderr",
          "text": [
            "Some weights of RobertaModel were not initialized from the model checkpoint at cardiffnlp/twitter-roberta-base-sentiment and are newly initialized: ['roberta.pooler.dense.bias', 'roberta.pooler.dense.weight']\n",
            "You should probably TRAIN this model on a down-stream task to be able to use it for predictions and inference.\n"
          ]
        }
      ]
    },
    {
      "cell_type": "code",
      "source": [
        "# Hacer predicción para un solo texto\n",
        "texto = \"I am very happy\"\n",
        "prediccion = pipeline.predict(texto)\n",
        "print(f\"Emoción predicha: {prediccion}\")"
      ],
      "metadata": {
        "colab": {
          "base_uri": "https://localhost:8080/"
        },
        "id": "kfbLb5NG8a9p",
        "outputId": "3a687710-8e55-45c0-a528-823b9f635152"
      },
      "execution_count": 59,
      "outputs": [
        {
          "output_type": "stream",
          "name": "stdout",
          "text": [
            "Emoción predicha: joy\n"
          ]
        }
      ]
    },
    {
      "cell_type": "code",
      "source": [
        "# Obtener predicción con probabilidades\n",
        "prediccion, probabilidades = pipeline.predict(texto, return_probabilities=True)\n",
        "print(f\"Emoción predicha: {prediccion}\")\n",
        "print(\"Probabilidades por clase:\")\n",
        "for emocion, prob in probabilidades.items():\n",
        "    print(f\"{emocion}: {prob:.4f}\")"
      ],
      "metadata": {
        "colab": {
          "base_uri": "https://localhost:8080/"
        },
        "id": "nnFk4yuG8c1-",
        "outputId": "421c2588-5433-4322-f33c-ee8b12d0b310"
      },
      "execution_count": 60,
      "outputs": [
        {
          "output_type": "stream",
          "name": "stdout",
          "text": [
            "Emoción predicha: joy\n",
            "Probabilidades por clase:\n",
            "sadness: 0.0000\n",
            "joy: 0.9973\n",
            "love: 0.0027\n",
            "anger: 0.0000\n",
            "fear: 0.0000\n",
            "surprise: 0.0000\n"
          ]
        }
      ]
    },
    {
      "cell_type": "code",
      "source": [
        "# Hacer predicciones para varios textos a la vez\n",
        "textos = [\n",
        "    \"I hate the sun\",\n",
        "    \"I am very sad\",\n",
        "    \"omg I can not believe it\"\n",
        "]\n",
        "predicciones = pipeline.predict_batch(textos)\n",
        "for texto, pred in zip(textos, predicciones):\n",
        "    print(f\"\\nTexto: {texto}\")\n",
        "    print(f\"Emoción predicha: {pred}\")"
      ],
      "metadata": {
        "colab": {
          "base_uri": "https://localhost:8080/"
        },
        "id": "tD2qpQn68e1B",
        "outputId": "47485819-a231-491b-dc8a-fb914d7f7db7"
      },
      "execution_count": 61,
      "outputs": [
        {
          "output_type": "stream",
          "name": "stdout",
          "text": [
            "\n",
            "Texto: I hate the sun\n",
            "Emoción predicha: anger\n",
            "\n",
            "Texto: I am very sad\n",
            "Emoción predicha: sadness\n",
            "\n",
            "Texto: omg I can not believe it\n",
            "Emoción predicha: surprise\n"
          ]
        }
      ]
    },
    {
      "cell_type": "markdown",
      "source": [
        "## Save the model"
      ],
      "metadata": {
        "id": "KVN49EguAyKh"
      }
    },
    {
      "cell_type": "code",
      "source": [
        "model_save_path = 'modelo_emociones.pth'\n",
        "torch.save(model.state_dict(), model_save_path)\n",
        "print(f\"Modelo guardado en: {model_save_path}\")"
      ],
      "metadata": {
        "colab": {
          "base_uri": "https://localhost:8080/"
        },
        "id": "bL7nGnL_A1Q9",
        "outputId": "4803a078-ffea-4a5a-afd0-502eb252c676"
      },
      "execution_count": 62,
      "outputs": [
        {
          "output_type": "stream",
          "name": "stdout",
          "text": [
            "Modelo guardado en: modelo_emociones.pth\n"
          ]
        }
      ]
    }
  ],
  "metadata": {
    "colab": {
      "provenance": []
    },
    "kernelspec": {
      "display_name": "sentiment-deep_learning",
      "language": "python",
      "name": "python3"
    },
    "language_info": {
      "codemirror_mode": {
        "name": "ipython",
        "version": 3
      },
      "file_extension": ".py",
      "mimetype": "text/x-python",
      "name": "python",
      "nbconvert_exporter": "python",
      "pygments_lexer": "ipython3",
      "version": "3.12.8"
    }
  },
  "nbformat": 4,
  "nbformat_minor": 0
}
